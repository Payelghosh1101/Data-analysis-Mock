{
 "cells": [
  {
   "cell_type": "markdown",
   "id": "db560cef",
   "metadata": {},
   "source": [
    "# column description"
   ]
  },
  {
   "cell_type": "markdown",
   "id": "aebd9f9f",
   "metadata": {},
   "source": [
    "segment_id → Unique ID for each road/catchment segment.\n",
    "\n",
    "city_name → City where the segment is located.\n",
    "\n",
    "admin_ward → Administrative ward/sector of the city.\n",
    "\n",
    "latitude, longitude → Geographic coordinates of the segment.\n",
    "\n",
    "catchment_id → ID for the catchment area (drainage basin).\n",
    "\n",
    "elevation_m → Elevation above sea level (in meters).\n",
    "\n",
    "dem_source → Source of elevation data (e.g., Copernicus, SRTM).\n",
    "\n",
    "land_use → Type of land use (Residential, Industrial, Institutional, etc.).\n",
    "\n",
    "soil_group → Soil classification (A, B, C, D) affecting infiltration.\n",
    "\n",
    "drainage_density_km_per_km2 → Drainage network density in the area.\n",
    "\n",
    "storm_drain_proximity_m → Distance to the nearest storm drain (meters).\n",
    "\n",
    "storm_drain_type → Type of drainage (Open Channel, Curb Inlet, Manhole, etc.).\n",
    "\n",
    "rainfall_source → Source of rainfall data (ERA5, IMD, etc.).\n",
    "\n",
    "historical_rainfall_intensity_mm_hr → Past rainfall intensity (mm/hr).\n",
    "\n",
    "return_period_years → Flood return period (5, 10, 25, 50 years).\n",
    "\n",
    "risk_labels → Flood risk status (e.g., monitor, ponding_hotspot, low_lying, with event date)."
   ]
  },
  {
   "cell_type": "markdown",
   "id": "f50d76a5",
   "metadata": {},
   "source": [
    "## Import Libraries"
   ]
  },
  {
   "cell_type": "code",
   "execution_count": 333,
   "id": "5e519d47",
   "metadata": {},
   "outputs": [],
   "source": [
    "import pandas as pd\n",
    "import seaborn as sns\n",
    "import matplotlib.pyplot as plt"
   ]
  },
  {
   "cell_type": "markdown",
   "id": "92a6cfb7",
   "metadata": {},
   "source": [
    "## Data Loading"
   ]
  },
  {
   "cell_type": "code",
   "execution_count": 334,
   "id": "5ed4cf80",
   "metadata": {},
   "outputs": [],
   "source": [
    "df=pd.read_csv('urban_pluvial_flood_risk_dataset.csv')"
   ]
  },
  {
   "cell_type": "code",
   "execution_count": 335,
   "id": "09734daa",
   "metadata": {},
   "outputs": [
    {
     "data": {
      "text/html": [
       "<div>\n",
       "<style scoped>\n",
       "    .dataframe tbody tr th:only-of-type {\n",
       "        vertical-align: middle;\n",
       "    }\n",
       "\n",
       "    .dataframe tbody tr th {\n",
       "        vertical-align: top;\n",
       "    }\n",
       "\n",
       "    .dataframe thead th {\n",
       "        text-align: right;\n",
       "    }\n",
       "</style>\n",
       "<table border=\"1\" class=\"dataframe\">\n",
       "  <thead>\n",
       "    <tr style=\"text-align: right;\">\n",
       "      <th></th>\n",
       "      <th>segment_id</th>\n",
       "      <th>city_name</th>\n",
       "      <th>admin_ward</th>\n",
       "      <th>latitude</th>\n",
       "      <th>longitude</th>\n",
       "      <th>catchment_id</th>\n",
       "      <th>elevation_m</th>\n",
       "      <th>dem_source</th>\n",
       "      <th>land_use</th>\n",
       "      <th>soil_group</th>\n",
       "      <th>drainage_density_km_per_km2</th>\n",
       "      <th>storm_drain_proximity_m</th>\n",
       "      <th>storm_drain_type</th>\n",
       "      <th>rainfall_source</th>\n",
       "      <th>historical_rainfall_intensity_mm_hr</th>\n",
       "      <th>return_period_years</th>\n",
       "      <th>risk_labels</th>\n",
       "    </tr>\n",
       "  </thead>\n",
       "  <tbody>\n",
       "    <tr>\n",
       "      <th>0</th>\n",
       "      <td>SEG-00001</td>\n",
       "      <td>Colombo, Sri Lanka</td>\n",
       "      <td>Borough East</td>\n",
       "      <td>6.920633</td>\n",
       "      <td>79.912600</td>\n",
       "      <td>CAT-136</td>\n",
       "      <td>NaN</td>\n",
       "      <td>Copernicus_EEA-10_v5</td>\n",
       "      <td>Institutional</td>\n",
       "      <td>NaN</td>\n",
       "      <td>4.27</td>\n",
       "      <td>160.5</td>\n",
       "      <td>CurbInlet</td>\n",
       "      <td>ERA5</td>\n",
       "      <td>39.4</td>\n",
       "      <td>50</td>\n",
       "      <td>monitor</td>\n",
       "    </tr>\n",
       "    <tr>\n",
       "      <th>1</th>\n",
       "      <td>SEG-00002</td>\n",
       "      <td>Chennai, India</td>\n",
       "      <td>Ward D</td>\n",
       "      <td>13.076487</td>\n",
       "      <td>80.281774</td>\n",
       "      <td>CAT-049</td>\n",
       "      <td>-2.19</td>\n",
       "      <td>Copernicus_EEA-10_v5</td>\n",
       "      <td>Residential</td>\n",
       "      <td>D</td>\n",
       "      <td>7.54</td>\n",
       "      <td>NaN</td>\n",
       "      <td>OpenChannel</td>\n",
       "      <td>ERA5</td>\n",
       "      <td>56.8</td>\n",
       "      <td>25</td>\n",
       "      <td>ponding_hotspot|low_lying|event_2025-05-02</td>\n",
       "    </tr>\n",
       "    <tr>\n",
       "      <th>2</th>\n",
       "      <td>SEG-00003</td>\n",
       "      <td>Ahmedabad, India</td>\n",
       "      <td>Sector 12</td>\n",
       "      <td>23.019473</td>\n",
       "      <td>72.638578</td>\n",
       "      <td>CAT-023</td>\n",
       "      <td>30.88</td>\n",
       "      <td>SRTM_3arc</td>\n",
       "      <td>Industrial</td>\n",
       "      <td>B</td>\n",
       "      <td>11.00</td>\n",
       "      <td>152.5</td>\n",
       "      <td>OpenChannel</td>\n",
       "      <td>IMD</td>\n",
       "      <td>16.3</td>\n",
       "      <td>5</td>\n",
       "      <td>monitor</td>\n",
       "    </tr>\n",
       "    <tr>\n",
       "      <th>3</th>\n",
       "      <td>SEG-00004</td>\n",
       "      <td>Hong Kong, China</td>\n",
       "      <td>Sector 14</td>\n",
       "      <td>22.302602</td>\n",
       "      <td>114.078673</td>\n",
       "      <td>CAT-168</td>\n",
       "      <td>24.28</td>\n",
       "      <td>SRTM_3arc</td>\n",
       "      <td>Residential</td>\n",
       "      <td>B</td>\n",
       "      <td>7.32</td>\n",
       "      <td>37.0</td>\n",
       "      <td>Manhole</td>\n",
       "      <td>ERA5</td>\n",
       "      <td>77.0</td>\n",
       "      <td>10</td>\n",
       "      <td>monitor</td>\n",
       "    </tr>\n",
       "    <tr>\n",
       "      <th>4</th>\n",
       "      <td>SEG-00005</td>\n",
       "      <td>Durban, South Africa</td>\n",
       "      <td>Sector 5</td>\n",
       "      <td>-29.887602</td>\n",
       "      <td>30.911008</td>\n",
       "      <td>CAT-171</td>\n",
       "      <td>35.70</td>\n",
       "      <td>SRTM_3arc</td>\n",
       "      <td>Industrial</td>\n",
       "      <td>C</td>\n",
       "      <td>4.50</td>\n",
       "      <td>292.4</td>\n",
       "      <td>OpenChannel</td>\n",
       "      <td>ERA5</td>\n",
       "      <td>20.8</td>\n",
       "      <td>5</td>\n",
       "      <td>monitor</td>\n",
       "    </tr>\n",
       "  </tbody>\n",
       "</table>\n",
       "</div>"
      ],
      "text/plain": [
       "  segment_id             city_name    admin_ward   latitude   longitude  \\\n",
       "0  SEG-00001    Colombo, Sri Lanka  Borough East   6.920633   79.912600   \n",
       "1  SEG-00002        Chennai, India        Ward D  13.076487   80.281774   \n",
       "2  SEG-00003      Ahmedabad, India     Sector 12  23.019473   72.638578   \n",
       "3  SEG-00004      Hong Kong, China     Sector 14  22.302602  114.078673   \n",
       "4  SEG-00005  Durban, South Africa      Sector 5 -29.887602   30.911008   \n",
       "\n",
       "  catchment_id  elevation_m            dem_source       land_use soil_group  \\\n",
       "0      CAT-136          NaN  Copernicus_EEA-10_v5  Institutional        NaN   \n",
       "1      CAT-049        -2.19  Copernicus_EEA-10_v5    Residential          D   \n",
       "2      CAT-023        30.88             SRTM_3arc     Industrial          B   \n",
       "3      CAT-168        24.28             SRTM_3arc    Residential          B   \n",
       "4      CAT-171        35.70             SRTM_3arc     Industrial          C   \n",
       "\n",
       "   drainage_density_km_per_km2  storm_drain_proximity_m storm_drain_type  \\\n",
       "0                         4.27                    160.5        CurbInlet   \n",
       "1                         7.54                      NaN      OpenChannel   \n",
       "2                        11.00                    152.5      OpenChannel   \n",
       "3                         7.32                     37.0          Manhole   \n",
       "4                         4.50                    292.4      OpenChannel   \n",
       "\n",
       "  rainfall_source  historical_rainfall_intensity_mm_hr  return_period_years  \\\n",
       "0            ERA5                                 39.4                   50   \n",
       "1            ERA5                                 56.8                   25   \n",
       "2             IMD                                 16.3                    5   \n",
       "3            ERA5                                 77.0                   10   \n",
       "4            ERA5                                 20.8                    5   \n",
       "\n",
       "                                  risk_labels  \n",
       "0                                     monitor  \n",
       "1  ponding_hotspot|low_lying|event_2025-05-02  \n",
       "2                                     monitor  \n",
       "3                                     monitor  \n",
       "4                                     monitor  "
      ]
     },
     "execution_count": 335,
     "metadata": {},
     "output_type": "execute_result"
    }
   ],
   "source": [
    "df.head()"
   ]
  },
  {
   "cell_type": "code",
   "execution_count": 336,
   "id": "b254d67d",
   "metadata": {},
   "outputs": [
    {
     "data": {
      "text/html": [
       "<div>\n",
       "<style scoped>\n",
       "    .dataframe tbody tr th:only-of-type {\n",
       "        vertical-align: middle;\n",
       "    }\n",
       "\n",
       "    .dataframe tbody tr th {\n",
       "        vertical-align: top;\n",
       "    }\n",
       "\n",
       "    .dataframe thead th {\n",
       "        text-align: right;\n",
       "    }\n",
       "</style>\n",
       "<table border=\"1\" class=\"dataframe\">\n",
       "  <thead>\n",
       "    <tr style=\"text-align: right;\">\n",
       "      <th></th>\n",
       "      <th>segment_id</th>\n",
       "      <th>city_name</th>\n",
       "      <th>admin_ward</th>\n",
       "      <th>latitude</th>\n",
       "      <th>longitude</th>\n",
       "      <th>catchment_id</th>\n",
       "      <th>elevation_m</th>\n",
       "      <th>dem_source</th>\n",
       "      <th>land_use</th>\n",
       "      <th>soil_group</th>\n",
       "      <th>drainage_density_km_per_km2</th>\n",
       "      <th>storm_drain_proximity_m</th>\n",
       "      <th>storm_drain_type</th>\n",
       "      <th>rainfall_source</th>\n",
       "      <th>historical_rainfall_intensity_mm_hr</th>\n",
       "      <th>return_period_years</th>\n",
       "      <th>risk_labels</th>\n",
       "    </tr>\n",
       "  </thead>\n",
       "  <tbody>\n",
       "    <tr>\n",
       "      <th>2958</th>\n",
       "      <td>SEG-02959</td>\n",
       "      <td>Paris, France</td>\n",
       "      <td>Ward B</td>\n",
       "      <td>48.872870</td>\n",
       "      <td>2.246250</td>\n",
       "      <td>CAT-036</td>\n",
       "      <td>30.46</td>\n",
       "      <td>Copernicus_GLO-30_v2023</td>\n",
       "      <td>Residential</td>\n",
       "      <td>C</td>\n",
       "      <td>NaN</td>\n",
       "      <td>78.8</td>\n",
       "      <td>GratedInlet</td>\n",
       "      <td>NaN</td>\n",
       "      <td>46.5</td>\n",
       "      <td>10</td>\n",
       "      <td>monitor</td>\n",
       "    </tr>\n",
       "    <tr>\n",
       "      <th>2959</th>\n",
       "      <td>SEG-02960</td>\n",
       "      <td>Shanghai, China</td>\n",
       "      <td>Sector 17</td>\n",
       "      <td>31.195529</td>\n",
       "      <td>121.435540</td>\n",
       "      <td>CAT-050</td>\n",
       "      <td>-3.00</td>\n",
       "      <td>SRTM_3arc</td>\n",
       "      <td>Industrial</td>\n",
       "      <td>C</td>\n",
       "      <td>5.54</td>\n",
       "      <td>4.9</td>\n",
       "      <td>OpenChannel</td>\n",
       "      <td>LocalGauge</td>\n",
       "      <td>70.6</td>\n",
       "      <td>5</td>\n",
       "      <td>ponding_hotspot|low_lying|event_2024-07-26</td>\n",
       "    </tr>\n",
       "    <tr>\n",
       "      <th>2960</th>\n",
       "      <td>SEG-02961</td>\n",
       "      <td>Vancouver, Canada</td>\n",
       "      <td>Sector 12</td>\n",
       "      <td>49.162783</td>\n",
       "      <td>-123.037084</td>\n",
       "      <td>CAT-052</td>\n",
       "      <td>14.16</td>\n",
       "      <td>Copernicus_GLO-90_v2022</td>\n",
       "      <td>Green</td>\n",
       "      <td>B</td>\n",
       "      <td>NaN</td>\n",
       "      <td>236.1</td>\n",
       "      <td>GratedInlet</td>\n",
       "      <td>NaN</td>\n",
       "      <td>27.7</td>\n",
       "      <td>2</td>\n",
       "      <td>monitor</td>\n",
       "    </tr>\n",
       "    <tr>\n",
       "      <th>2961</th>\n",
       "      <td>SEG-02962</td>\n",
       "      <td>Lagos, Nigeria</td>\n",
       "      <td>Zone V</td>\n",
       "      <td>6.504570</td>\n",
       "      <td>3.388571</td>\n",
       "      <td>CAT-092</td>\n",
       "      <td>7.00</td>\n",
       "      <td>Copernicus_GLO-30_v2023</td>\n",
       "      <td>Industrial</td>\n",
       "      <td>B</td>\n",
       "      <td>8.74</td>\n",
       "      <td>294.8</td>\n",
       "      <td>OpenChannel</td>\n",
       "      <td>ERA5</td>\n",
       "      <td>131.6</td>\n",
       "      <td>100</td>\n",
       "      <td>extreme_rain_history|low_lying</td>\n",
       "    </tr>\n",
       "    <tr>\n",
       "      <th>2962</th>\n",
       "      <td>SEG-02963</td>\n",
       "      <td>Osaka, Japan</td>\n",
       "      <td>Zone IV</td>\n",
       "      <td>34.740562</td>\n",
       "      <td>135.469263</td>\n",
       "      <td>CAT-169</td>\n",
       "      <td>56.00</td>\n",
       "      <td>SRTM_3arc</td>\n",
       "      <td>Commercial</td>\n",
       "      <td>C</td>\n",
       "      <td>4.44</td>\n",
       "      <td>80.8</td>\n",
       "      <td>OpenChannel</td>\n",
       "      <td>ERA5</td>\n",
       "      <td>43.1</td>\n",
       "      <td>2</td>\n",
       "      <td>monitor</td>\n",
       "    </tr>\n",
       "  </tbody>\n",
       "</table>\n",
       "</div>"
      ],
      "text/plain": [
       "     segment_id          city_name admin_ward   latitude   longitude  \\\n",
       "2958  SEG-02959      Paris, France     Ward B  48.872870    2.246250   \n",
       "2959  SEG-02960    Shanghai, China  Sector 17  31.195529  121.435540   \n",
       "2960  SEG-02961  Vancouver, Canada  Sector 12  49.162783 -123.037084   \n",
       "2961  SEG-02962     Lagos, Nigeria     Zone V   6.504570    3.388571   \n",
       "2962  SEG-02963       Osaka, Japan    Zone IV  34.740562  135.469263   \n",
       "\n",
       "     catchment_id  elevation_m               dem_source     land_use  \\\n",
       "2958      CAT-036        30.46  Copernicus_GLO-30_v2023  Residential   \n",
       "2959      CAT-050        -3.00                SRTM_3arc   Industrial   \n",
       "2960      CAT-052        14.16  Copernicus_GLO-90_v2022        Green   \n",
       "2961      CAT-092         7.00  Copernicus_GLO-30_v2023   Industrial   \n",
       "2962      CAT-169        56.00                SRTM_3arc   Commercial   \n",
       "\n",
       "     soil_group  drainage_density_km_per_km2  storm_drain_proximity_m  \\\n",
       "2958          C                          NaN                     78.8   \n",
       "2959          C                         5.54                      4.9   \n",
       "2960          B                          NaN                    236.1   \n",
       "2961          B                         8.74                    294.8   \n",
       "2962          C                         4.44                     80.8   \n",
       "\n",
       "     storm_drain_type rainfall_source  historical_rainfall_intensity_mm_hr  \\\n",
       "2958      GratedInlet             NaN                                 46.5   \n",
       "2959      OpenChannel      LocalGauge                                 70.6   \n",
       "2960      GratedInlet             NaN                                 27.7   \n",
       "2961      OpenChannel            ERA5                                131.6   \n",
       "2962      OpenChannel            ERA5                                 43.1   \n",
       "\n",
       "      return_period_years                                 risk_labels  \n",
       "2958                   10                                     monitor  \n",
       "2959                    5  ponding_hotspot|low_lying|event_2024-07-26  \n",
       "2960                    2                                     monitor  \n",
       "2961                  100              extreme_rain_history|low_lying  \n",
       "2962                    2                                     monitor  "
      ]
     },
     "execution_count": 336,
     "metadata": {},
     "output_type": "execute_result"
    }
   ],
   "source": [
    "df.tail()"
   ]
  },
  {
   "cell_type": "markdown",
   "id": "de869350",
   "metadata": {},
   "source": [
    "## Understaning the data"
   ]
  },
  {
   "cell_type": "code",
   "execution_count": 337,
   "id": "1756b679",
   "metadata": {},
   "outputs": [
    {
     "name": "stdout",
     "output_type": "stream",
     "text": [
      "<class 'pandas.core.frame.DataFrame'>\n",
      "RangeIndex: 2963 entries, 0 to 2962\n",
      "Data columns (total 17 columns):\n",
      " #   Column                               Non-Null Count  Dtype  \n",
      "---  ------                               --------------  -----  \n",
      " 0   segment_id                           2963 non-null   object \n",
      " 1   city_name                            2963 non-null   object \n",
      " 2   admin_ward                           2963 non-null   object \n",
      " 3   latitude                             2963 non-null   float64\n",
      " 4   longitude                            2963 non-null   float64\n",
      " 5   catchment_id                         2963 non-null   object \n",
      " 6   elevation_m                          2802 non-null   float64\n",
      " 7   dem_source                           2963 non-null   object \n",
      " 8   land_use                             2963 non-null   object \n",
      " 9   soil_group                           2601 non-null   object \n",
      " 10  drainage_density_km_per_km2          2679 non-null   float64\n",
      " 11  storm_drain_proximity_m              2724 non-null   float64\n",
      " 12  storm_drain_type                     2785 non-null   object \n",
      " 13  rainfall_source                      2648 non-null   object \n",
      " 14  historical_rainfall_intensity_mm_hr  2963 non-null   float64\n",
      " 15  return_period_years                  2963 non-null   int64  \n",
      " 16  risk_labels                          2963 non-null   object \n",
      "dtypes: float64(6), int64(1), object(10)\n",
      "memory usage: 393.7+ KB\n"
     ]
    }
   ],
   "source": [
    "df.info()"
   ]
  },
  {
   "cell_type": "code",
   "execution_count": 338,
   "id": "d306cbc1",
   "metadata": {},
   "outputs": [
    {
     "data": {
      "text/html": [
       "<div>\n",
       "<style scoped>\n",
       "    .dataframe tbody tr th:only-of-type {\n",
       "        vertical-align: middle;\n",
       "    }\n",
       "\n",
       "    .dataframe tbody tr th {\n",
       "        vertical-align: top;\n",
       "    }\n",
       "\n",
       "    .dataframe thead th {\n",
       "        text-align: right;\n",
       "    }\n",
       "</style>\n",
       "<table border=\"1\" class=\"dataframe\">\n",
       "  <thead>\n",
       "    <tr style=\"text-align: right;\">\n",
       "      <th></th>\n",
       "      <th>latitude</th>\n",
       "      <th>longitude</th>\n",
       "      <th>elevation_m</th>\n",
       "      <th>drainage_density_km_per_km2</th>\n",
       "      <th>storm_drain_proximity_m</th>\n",
       "      <th>historical_rainfall_intensity_mm_hr</th>\n",
       "      <th>return_period_years</th>\n",
       "    </tr>\n",
       "  </thead>\n",
       "  <tbody>\n",
       "    <tr>\n",
       "      <th>count</th>\n",
       "      <td>2963.000000</td>\n",
       "      <td>2963.000000</td>\n",
       "      <td>2802.000000</td>\n",
       "      <td>2679.000000</td>\n",
       "      <td>2724.000000</td>\n",
       "      <td>2963.000000</td>\n",
       "      <td>2963.000000</td>\n",
       "    </tr>\n",
       "    <tr>\n",
       "      <th>mean</th>\n",
       "      <td>19.399103</td>\n",
       "      <td>31.676123</td>\n",
       "      <td>37.689818</td>\n",
       "      <td>6.290866</td>\n",
       "      <td>123.202203</td>\n",
       "      <td>43.811441</td>\n",
       "      <td>19.730003</td>\n",
       "    </tr>\n",
       "    <tr>\n",
       "      <th>std</th>\n",
       "      <td>24.446320</td>\n",
       "      <td>79.542482</td>\n",
       "      <td>38.708958</td>\n",
       "      <td>2.187365</td>\n",
       "      <td>107.764541</td>\n",
       "      <td>25.221200</td>\n",
       "      <td>25.182883</td>\n",
       "    </tr>\n",
       "    <tr>\n",
       "      <th>min</th>\n",
       "      <td>-36.999038</td>\n",
       "      <td>-123.292949</td>\n",
       "      <td>-3.000000</td>\n",
       "      <td>1.270000</td>\n",
       "      <td>0.200000</td>\n",
       "      <td>5.400000</td>\n",
       "      <td>2.000000</td>\n",
       "    </tr>\n",
       "    <tr>\n",
       "      <th>25%</th>\n",
       "      <td>6.580006</td>\n",
       "      <td>-43.124581</td>\n",
       "      <td>8.725000</td>\n",
       "      <td>4.670000</td>\n",
       "      <td>47.975000</td>\n",
       "      <td>25.800000</td>\n",
       "      <td>5.000000</td>\n",
       "    </tr>\n",
       "    <tr>\n",
       "      <th>50%</th>\n",
       "      <td>23.760802</td>\n",
       "      <td>36.889173</td>\n",
       "      <td>25.130000</td>\n",
       "      <td>6.250000</td>\n",
       "      <td>91.700000</td>\n",
       "      <td>37.900000</td>\n",
       "      <td>10.000000</td>\n",
       "    </tr>\n",
       "    <tr>\n",
       "      <th>75%</th>\n",
       "      <td>37.887422</td>\n",
       "      <td>101.701136</td>\n",
       "      <td>59.620000</td>\n",
       "      <td>7.830000</td>\n",
       "      <td>162.625000</td>\n",
       "      <td>55.550000</td>\n",
       "      <td>25.000000</td>\n",
       "    </tr>\n",
       "    <tr>\n",
       "      <th>max</th>\n",
       "      <td>55.821219</td>\n",
       "      <td>174.911271</td>\n",
       "      <td>266.700000</td>\n",
       "      <td>12.070000</td>\n",
       "      <td>751.700000</td>\n",
       "      <td>150.000000</td>\n",
       "      <td>100.000000</td>\n",
       "    </tr>\n",
       "  </tbody>\n",
       "</table>\n",
       "</div>"
      ],
      "text/plain": [
       "          latitude    longitude  elevation_m  drainage_density_km_per_km2  \\\n",
       "count  2963.000000  2963.000000  2802.000000                  2679.000000   \n",
       "mean     19.399103    31.676123    37.689818                     6.290866   \n",
       "std      24.446320    79.542482    38.708958                     2.187365   \n",
       "min     -36.999038  -123.292949    -3.000000                     1.270000   \n",
       "25%       6.580006   -43.124581     8.725000                     4.670000   \n",
       "50%      23.760802    36.889173    25.130000                     6.250000   \n",
       "75%      37.887422   101.701136    59.620000                     7.830000   \n",
       "max      55.821219   174.911271   266.700000                    12.070000   \n",
       "\n",
       "       storm_drain_proximity_m  historical_rainfall_intensity_mm_hr  \\\n",
       "count              2724.000000                          2963.000000   \n",
       "mean                123.202203                            43.811441   \n",
       "std                 107.764541                            25.221200   \n",
       "min                   0.200000                             5.400000   \n",
       "25%                  47.975000                            25.800000   \n",
       "50%                  91.700000                            37.900000   \n",
       "75%                 162.625000                            55.550000   \n",
       "max                 751.700000                           150.000000   \n",
       "\n",
       "       return_period_years  \n",
       "count          2963.000000  \n",
       "mean             19.730003  \n",
       "std              25.182883  \n",
       "min               2.000000  \n",
       "25%               5.000000  \n",
       "50%              10.000000  \n",
       "75%              25.000000  \n",
       "max             100.000000  "
      ]
     },
     "execution_count": 338,
     "metadata": {},
     "output_type": "execute_result"
    }
   ],
   "source": [
    "df.describe()"
   ]
  },
  {
   "cell_type": "markdown",
   "id": "066e1991",
   "metadata": {},
   "source": [
    "## Data cleaning"
   ]
  },
  {
   "cell_type": "code",
   "execution_count": 339,
   "id": "0783abb4",
   "metadata": {},
   "outputs": [
    {
     "data": {
      "text/plain": [
       "False"
      ]
     },
     "execution_count": 339,
     "metadata": {},
     "output_type": "execute_result"
    }
   ],
   "source": [
    "df.duplicated().any()"
   ]
  },
  {
   "cell_type": "code",
   "execution_count": 340,
   "id": "4d886978",
   "metadata": {},
   "outputs": [
    {
     "data": {
      "text/plain": [
       "segment_id                               0\n",
       "city_name                                0\n",
       "admin_ward                               0\n",
       "latitude                                 0\n",
       "longitude                                0\n",
       "catchment_id                             0\n",
       "elevation_m                            161\n",
       "dem_source                               0\n",
       "land_use                                 0\n",
       "soil_group                             362\n",
       "drainage_density_km_per_km2            284\n",
       "storm_drain_proximity_m                239\n",
       "storm_drain_type                       178\n",
       "rainfall_source                        315\n",
       "historical_rainfall_intensity_mm_hr      0\n",
       "return_period_years                      0\n",
       "risk_labels                              0\n",
       "dtype: int64"
      ]
     },
     "execution_count": 340,
     "metadata": {},
     "output_type": "execute_result"
    }
   ],
   "source": [
    "df.isnull().sum()"
   ]
  },
  {
   "cell_type": "code",
   "execution_count": 341,
   "id": "ef5eaffb",
   "metadata": {},
   "outputs": [],
   "source": [
    "lst=['segment_id','city','admin_ward','latitude','longitude','catchment_id','elevation_m','dem_source','land_use','soil_group','drainage_density(km)',\n",
    "     'storm_drain_proximity_m','storm_drain_type','rainfall_source','historical_rainfall(mm/hr)','return_period_years','risk_labels']"
   ]
  },
  {
   "cell_type": "code",
   "execution_count": 342,
   "id": "acc14b39",
   "metadata": {},
   "outputs": [],
   "source": [
    "df.columns=lst"
   ]
  },
  {
   "cell_type": "code",
   "execution_count": 343,
   "id": "7abc5a4c",
   "metadata": {},
   "outputs": [
    {
     "data": {
      "text/html": [
       "<div>\n",
       "<style scoped>\n",
       "    .dataframe tbody tr th:only-of-type {\n",
       "        vertical-align: middle;\n",
       "    }\n",
       "\n",
       "    .dataframe tbody tr th {\n",
       "        vertical-align: top;\n",
       "    }\n",
       "\n",
       "    .dataframe thead th {\n",
       "        text-align: right;\n",
       "    }\n",
       "</style>\n",
       "<table border=\"1\" class=\"dataframe\">\n",
       "  <thead>\n",
       "    <tr style=\"text-align: right;\">\n",
       "      <th></th>\n",
       "      <th>segment_id</th>\n",
       "      <th>city</th>\n",
       "      <th>admin_ward</th>\n",
       "      <th>latitude</th>\n",
       "      <th>longitude</th>\n",
       "      <th>catchment_id</th>\n",
       "      <th>elevation_m</th>\n",
       "      <th>dem_source</th>\n",
       "      <th>land_use</th>\n",
       "      <th>soil_group</th>\n",
       "      <th>drainage_density(km)</th>\n",
       "      <th>storm_drain_proximity_m</th>\n",
       "      <th>storm_drain_type</th>\n",
       "      <th>rainfall_source</th>\n",
       "      <th>historical_rainfall(mm/hr)</th>\n",
       "      <th>return_period_years</th>\n",
       "      <th>risk_labels</th>\n",
       "    </tr>\n",
       "  </thead>\n",
       "  <tbody>\n",
       "    <tr>\n",
       "      <th>0</th>\n",
       "      <td>SEG-00001</td>\n",
       "      <td>Colombo, Sri Lanka</td>\n",
       "      <td>Borough East</td>\n",
       "      <td>6.920633</td>\n",
       "      <td>79.912600</td>\n",
       "      <td>CAT-136</td>\n",
       "      <td>NaN</td>\n",
       "      <td>Copernicus_EEA-10_v5</td>\n",
       "      <td>Institutional</td>\n",
       "      <td>NaN</td>\n",
       "      <td>4.27</td>\n",
       "      <td>160.5</td>\n",
       "      <td>CurbInlet</td>\n",
       "      <td>ERA5</td>\n",
       "      <td>39.4</td>\n",
       "      <td>50</td>\n",
       "      <td>monitor</td>\n",
       "    </tr>\n",
       "    <tr>\n",
       "      <th>1</th>\n",
       "      <td>SEG-00002</td>\n",
       "      <td>Chennai, India</td>\n",
       "      <td>Ward D</td>\n",
       "      <td>13.076487</td>\n",
       "      <td>80.281774</td>\n",
       "      <td>CAT-049</td>\n",
       "      <td>-2.19</td>\n",
       "      <td>Copernicus_EEA-10_v5</td>\n",
       "      <td>Residential</td>\n",
       "      <td>D</td>\n",
       "      <td>7.54</td>\n",
       "      <td>NaN</td>\n",
       "      <td>OpenChannel</td>\n",
       "      <td>ERA5</td>\n",
       "      <td>56.8</td>\n",
       "      <td>25</td>\n",
       "      <td>ponding_hotspot|low_lying|event_2025-05-02</td>\n",
       "    </tr>\n",
       "    <tr>\n",
       "      <th>2</th>\n",
       "      <td>SEG-00003</td>\n",
       "      <td>Ahmedabad, India</td>\n",
       "      <td>Sector 12</td>\n",
       "      <td>23.019473</td>\n",
       "      <td>72.638578</td>\n",
       "      <td>CAT-023</td>\n",
       "      <td>30.88</td>\n",
       "      <td>SRTM_3arc</td>\n",
       "      <td>Industrial</td>\n",
       "      <td>B</td>\n",
       "      <td>11.00</td>\n",
       "      <td>152.5</td>\n",
       "      <td>OpenChannel</td>\n",
       "      <td>IMD</td>\n",
       "      <td>16.3</td>\n",
       "      <td>5</td>\n",
       "      <td>monitor</td>\n",
       "    </tr>\n",
       "    <tr>\n",
       "      <th>3</th>\n",
       "      <td>SEG-00004</td>\n",
       "      <td>Hong Kong, China</td>\n",
       "      <td>Sector 14</td>\n",
       "      <td>22.302602</td>\n",
       "      <td>114.078673</td>\n",
       "      <td>CAT-168</td>\n",
       "      <td>24.28</td>\n",
       "      <td>SRTM_3arc</td>\n",
       "      <td>Residential</td>\n",
       "      <td>B</td>\n",
       "      <td>7.32</td>\n",
       "      <td>37.0</td>\n",
       "      <td>Manhole</td>\n",
       "      <td>ERA5</td>\n",
       "      <td>77.0</td>\n",
       "      <td>10</td>\n",
       "      <td>monitor</td>\n",
       "    </tr>\n",
       "    <tr>\n",
       "      <th>4</th>\n",
       "      <td>SEG-00005</td>\n",
       "      <td>Durban, South Africa</td>\n",
       "      <td>Sector 5</td>\n",
       "      <td>-29.887602</td>\n",
       "      <td>30.911008</td>\n",
       "      <td>CAT-171</td>\n",
       "      <td>35.70</td>\n",
       "      <td>SRTM_3arc</td>\n",
       "      <td>Industrial</td>\n",
       "      <td>C</td>\n",
       "      <td>4.50</td>\n",
       "      <td>292.4</td>\n",
       "      <td>OpenChannel</td>\n",
       "      <td>ERA5</td>\n",
       "      <td>20.8</td>\n",
       "      <td>5</td>\n",
       "      <td>monitor</td>\n",
       "    </tr>\n",
       "  </tbody>\n",
       "</table>\n",
       "</div>"
      ],
      "text/plain": [
       "  segment_id                  city    admin_ward   latitude   longitude  \\\n",
       "0  SEG-00001    Colombo, Sri Lanka  Borough East   6.920633   79.912600   \n",
       "1  SEG-00002        Chennai, India        Ward D  13.076487   80.281774   \n",
       "2  SEG-00003      Ahmedabad, India     Sector 12  23.019473   72.638578   \n",
       "3  SEG-00004      Hong Kong, China     Sector 14  22.302602  114.078673   \n",
       "4  SEG-00005  Durban, South Africa      Sector 5 -29.887602   30.911008   \n",
       "\n",
       "  catchment_id  elevation_m            dem_source       land_use soil_group  \\\n",
       "0      CAT-136          NaN  Copernicus_EEA-10_v5  Institutional        NaN   \n",
       "1      CAT-049        -2.19  Copernicus_EEA-10_v5    Residential          D   \n",
       "2      CAT-023        30.88             SRTM_3arc     Industrial          B   \n",
       "3      CAT-168        24.28             SRTM_3arc    Residential          B   \n",
       "4      CAT-171        35.70             SRTM_3arc     Industrial          C   \n",
       "\n",
       "   drainage_density(km)  storm_drain_proximity_m storm_drain_type  \\\n",
       "0                  4.27                    160.5        CurbInlet   \n",
       "1                  7.54                      NaN      OpenChannel   \n",
       "2                 11.00                    152.5      OpenChannel   \n",
       "3                  7.32                     37.0          Manhole   \n",
       "4                  4.50                    292.4      OpenChannel   \n",
       "\n",
       "  rainfall_source  historical_rainfall(mm/hr)  return_period_years  \\\n",
       "0            ERA5                        39.4                   50   \n",
       "1            ERA5                        56.8                   25   \n",
       "2             IMD                        16.3                    5   \n",
       "3            ERA5                        77.0                   10   \n",
       "4            ERA5                        20.8                    5   \n",
       "\n",
       "                                  risk_labels  \n",
       "0                                     monitor  \n",
       "1  ponding_hotspot|low_lying|event_2025-05-02  \n",
       "2                                     monitor  \n",
       "3                                     monitor  \n",
       "4                                     monitor  "
      ]
     },
     "execution_count": 343,
     "metadata": {},
     "output_type": "execute_result"
    }
   ],
   "source": [
    "df.head()"
   ]
  },
  {
   "cell_type": "code",
   "execution_count": 344,
   "id": "c0a1a9a1",
   "metadata": {},
   "outputs": [
    {
     "name": "stdout",
     "output_type": "stream",
     "text": [
      "<class 'pandas.core.frame.DataFrame'>\n",
      "RangeIndex: 2963 entries, 0 to 2962\n",
      "Data columns (total 17 columns):\n",
      " #   Column                      Non-Null Count  Dtype  \n",
      "---  ------                      --------------  -----  \n",
      " 0   segment_id                  2963 non-null   object \n",
      " 1   city                        2963 non-null   object \n",
      " 2   admin_ward                  2963 non-null   object \n",
      " 3   latitude                    2963 non-null   float64\n",
      " 4   longitude                   2963 non-null   float64\n",
      " 5   catchment_id                2963 non-null   object \n",
      " 6   elevation_m                 2802 non-null   float64\n",
      " 7   dem_source                  2963 non-null   object \n",
      " 8   land_use                    2963 non-null   object \n",
      " 9   soil_group                  2601 non-null   object \n",
      " 10  drainage_density(km)        2679 non-null   float64\n",
      " 11  storm_drain_proximity_m     2724 non-null   float64\n",
      " 12  storm_drain_type            2785 non-null   object \n",
      " 13  rainfall_source             2648 non-null   object \n",
      " 14  historical_rainfall(mm/hr)  2963 non-null   float64\n",
      " 15  return_period_years         2963 non-null   int64  \n",
      " 16  risk_labels                 2963 non-null   object \n",
      "dtypes: float64(6), int64(1), object(10)\n",
      "memory usage: 393.7+ KB\n"
     ]
    }
   ],
   "source": [
    "df.info()"
   ]
  },
  {
   "cell_type": "code",
   "execution_count": 345,
   "id": "327fbb4c",
   "metadata": {},
   "outputs": [
    {
     "data": {
      "text/plain": [
       "<Axes: xlabel='drainage_density(km)'>"
      ]
     },
     "execution_count": 345,
     "metadata": {},
     "output_type": "execute_result"
    },
    {
     "data": {
      "image/png": "[encoded data removed]",
      "text/plain": [
       "<Figure size 640x480 with 1 Axes>"
      ]
     },
     "metadata": {},
     "output_type": "display_data"
    }
   ],
   "source": [
    "sns.boxplot(df,x='drainage_density(km)')"
   ]
  },
  {
   "cell_type": "code",
   "execution_count": 346,
   "id": "7dd353ad",
   "metadata": {},
   "outputs": [
    {
     "data": {
      "text/plain": [
       "<Axes: xlabel='storm_drain_proximity_m'>"
      ]
     },
     "execution_count": 346,
     "metadata": {},
     "output_type": "execute_result"
    },
    {
     "data": {
      "image/png": "[encoded data removed]",
      "text/plain": [
       "<Figure size 640x480 with 1 Axes>"
      ]
     },
     "metadata": {},
     "output_type": "display_data"
    }
   ],
   "source": [
    "sns.boxplot(df,x='storm_drain_proximity_m')"
   ]
  },
  {
   "cell_type": "code",
   "execution_count": 347,
   "id": "c4cd079b",
   "metadata": {},
   "outputs": [
    {
     "data": {
      "text/plain": [
       "<Axes: xlabel='elevation_m'>"
      ]
     },
     "execution_count": 347,
     "metadata": {},
     "output_type": "execute_result"
    },
    {
     "data": {
      "image/png": "[encoded data removed]",
      "text/plain": [
       "<Figure size 640x480 with 1 Axes>"
      ]
     },
     "metadata": {},
     "output_type": "display_data"
    }
   ],
   "source": [
    "sns.boxplot(df,x='elevation_m')"
   ]
  },
  {
   "cell_type": "code",
   "execution_count": 348,
   "id": "8432e3b4",
   "metadata": {},
   "outputs": [],
   "source": [
    "df['drainage_density(km)']=df['drainage_density(km)'].fillna(df['drainage_density(km)'].mean())"
   ]
  },
  {
   "cell_type": "code",
   "execution_count": 349,
   "id": "5739982c",
   "metadata": {},
   "outputs": [],
   "source": [
    "for i in ['storm_drain_proximity_m','elevation_m']:\n",
    "    df[i]=df[i].fillna(df[i].median())\n"
   ]
  },
  {
   "cell_type": "code",
   "execution_count": 350,
   "id": "b909b761",
   "metadata": {},
   "outputs": [],
   "source": [
    "for i in ['storm_drain_type','rainfall_source','soil_group']:\n",
    "    df[i]=df[i].fillna(df[i].mode()[0])"
   ]
  },
  {
   "cell_type": "code",
   "execution_count": null,
   "id": "aef20f95",
   "metadata": {},
   "outputs": [],
   "source": []
  },
  {
   "cell_type": "code",
   "execution_count": 351,
   "id": "7a12a1de",
   "metadata": {},
   "outputs": [
    {
     "data": {
      "text/plain": [
       "segment_id                    0\n",
       "city                          0\n",
       "admin_ward                    0\n",
       "latitude                      0\n",
       "longitude                     0\n",
       "catchment_id                  0\n",
       "elevation_m                   0\n",
       "dem_source                    0\n",
       "land_use                      0\n",
       "soil_group                    0\n",
       "drainage_density(km)          0\n",
       "storm_drain_proximity_m       0\n",
       "storm_drain_type              0\n",
       "rainfall_source               0\n",
       "historical_rainfall(mm/hr)    0\n",
       "return_period_years           0\n",
       "risk_labels                   0\n",
       "dtype: int64"
      ]
     },
     "execution_count": 351,
     "metadata": {},
     "output_type": "execute_result"
    }
   ],
   "source": [
    "df.isnull().sum()"
   ]
  },
  {
   "cell_type": "code",
   "execution_count": 352,
   "id": "4aba4e96",
   "metadata": {},
   "outputs": [
    {
     "data": {
      "text/html": [
       "<div>\n",
       "<style scoped>\n",
       "    .dataframe tbody tr th:only-of-type {\n",
       "        vertical-align: middle;\n",
       "    }\n",
       "\n",
       "    .dataframe tbody tr th {\n",
       "        vertical-align: top;\n",
       "    }\n",
       "\n",
       "    .dataframe thead th {\n",
       "        text-align: right;\n",
       "    }\n",
       "</style>\n",
       "<table border=\"1\" class=\"dataframe\">\n",
       "  <thead>\n",
       "    <tr style=\"text-align: right;\">\n",
       "      <th></th>\n",
       "      <th>segment_id</th>\n",
       "      <th>city</th>\n",
       "      <th>admin_ward</th>\n",
       "      <th>latitude</th>\n",
       "      <th>longitude</th>\n",
       "      <th>catchment_id</th>\n",
       "      <th>elevation_m</th>\n",
       "      <th>dem_source</th>\n",
       "      <th>land_use</th>\n",
       "      <th>soil_group</th>\n",
       "      <th>drainage_density(km)</th>\n",
       "      <th>storm_drain_proximity_m</th>\n",
       "      <th>storm_drain_type</th>\n",
       "      <th>rainfall_source</th>\n",
       "      <th>historical_rainfall(mm/hr)</th>\n",
       "      <th>return_period_years</th>\n",
       "      <th>risk_labels</th>\n",
       "    </tr>\n",
       "  </thead>\n",
       "  <tbody>\n",
       "    <tr>\n",
       "      <th>0</th>\n",
       "      <td>SEG-00001</td>\n",
       "      <td>Colombo, Sri Lanka</td>\n",
       "      <td>Borough East</td>\n",
       "      <td>6.920633</td>\n",
       "      <td>79.912600</td>\n",
       "      <td>CAT-136</td>\n",
       "      <td>25.13</td>\n",
       "      <td>Copernicus_EEA-10_v5</td>\n",
       "      <td>Institutional</td>\n",
       "      <td>B</td>\n",
       "      <td>4.27</td>\n",
       "      <td>160.5</td>\n",
       "      <td>CurbInlet</td>\n",
       "      <td>ERA5</td>\n",
       "      <td>39.4</td>\n",
       "      <td>50</td>\n",
       "      <td>monitor</td>\n",
       "    </tr>\n",
       "    <tr>\n",
       "      <th>1</th>\n",
       "      <td>SEG-00002</td>\n",
       "      <td>Chennai, India</td>\n",
       "      <td>Ward D</td>\n",
       "      <td>13.076487</td>\n",
       "      <td>80.281774</td>\n",
       "      <td>CAT-049</td>\n",
       "      <td>-2.19</td>\n",
       "      <td>Copernicus_EEA-10_v5</td>\n",
       "      <td>Residential</td>\n",
       "      <td>D</td>\n",
       "      <td>7.54</td>\n",
       "      <td>91.7</td>\n",
       "      <td>OpenChannel</td>\n",
       "      <td>ERA5</td>\n",
       "      <td>56.8</td>\n",
       "      <td>25</td>\n",
       "      <td>ponding_hotspot|low_lying|event_2025-05-02</td>\n",
       "    </tr>\n",
       "    <tr>\n",
       "      <th>2</th>\n",
       "      <td>SEG-00003</td>\n",
       "      <td>Ahmedabad, India</td>\n",
       "      <td>Sector 12</td>\n",
       "      <td>23.019473</td>\n",
       "      <td>72.638578</td>\n",
       "      <td>CAT-023</td>\n",
       "      <td>30.88</td>\n",
       "      <td>SRTM_3arc</td>\n",
       "      <td>Industrial</td>\n",
       "      <td>B</td>\n",
       "      <td>11.00</td>\n",
       "      <td>152.5</td>\n",
       "      <td>OpenChannel</td>\n",
       "      <td>IMD</td>\n",
       "      <td>16.3</td>\n",
       "      <td>5</td>\n",
       "      <td>monitor</td>\n",
       "    </tr>\n",
       "    <tr>\n",
       "      <th>3</th>\n",
       "      <td>SEG-00004</td>\n",
       "      <td>Hong Kong, China</td>\n",
       "      <td>Sector 14</td>\n",
       "      <td>22.302602</td>\n",
       "      <td>114.078673</td>\n",
       "      <td>CAT-168</td>\n",
       "      <td>24.28</td>\n",
       "      <td>SRTM_3arc</td>\n",
       "      <td>Residential</td>\n",
       "      <td>B</td>\n",
       "      <td>7.32</td>\n",
       "      <td>37.0</td>\n",
       "      <td>Manhole</td>\n",
       "      <td>ERA5</td>\n",
       "      <td>77.0</td>\n",
       "      <td>10</td>\n",
       "      <td>monitor</td>\n",
       "    </tr>\n",
       "    <tr>\n",
       "      <th>4</th>\n",
       "      <td>SEG-00005</td>\n",
       "      <td>Durban, South Africa</td>\n",
       "      <td>Sector 5</td>\n",
       "      <td>-29.887602</td>\n",
       "      <td>30.911008</td>\n",
       "      <td>CAT-171</td>\n",
       "      <td>35.70</td>\n",
       "      <td>SRTM_3arc</td>\n",
       "      <td>Industrial</td>\n",
       "      <td>C</td>\n",
       "      <td>4.50</td>\n",
       "      <td>292.4</td>\n",
       "      <td>OpenChannel</td>\n",
       "      <td>ERA5</td>\n",
       "      <td>20.8</td>\n",
       "      <td>5</td>\n",
       "      <td>monitor</td>\n",
       "    </tr>\n",
       "  </tbody>\n",
       "</table>\n",
       "</div>"
      ],
      "text/plain": [
       "  segment_id                  city    admin_ward   latitude   longitude  \\\n",
       "0  SEG-00001    Colombo, Sri Lanka  Borough East   6.920633   79.912600   \n",
       "1  SEG-00002        Chennai, India        Ward D  13.076487   80.281774   \n",
       "2  SEG-00003      Ahmedabad, India     Sector 12  23.019473   72.638578   \n",
       "3  SEG-00004      Hong Kong, China     Sector 14  22.302602  114.078673   \n",
       "4  SEG-00005  Durban, South Africa      Sector 5 -29.887602   30.911008   \n",
       "\n",
       "  catchment_id  elevation_m            dem_source       land_use soil_group  \\\n",
       "0      CAT-136        25.13  Copernicus_EEA-10_v5  Institutional          B   \n",
       "1      CAT-049        -2.19  Copernicus_EEA-10_v5    Residential          D   \n",
       "2      CAT-023        30.88             SRTM_3arc     Industrial          B   \n",
       "3      CAT-168        24.28             SRTM_3arc    Residential          B   \n",
       "4      CAT-171        35.70             SRTM_3arc     Industrial          C   \n",
       "\n",
       "   drainage_density(km)  storm_drain_proximity_m storm_drain_type  \\\n",
       "0                  4.27                    160.5        CurbInlet   \n",
       "1                  7.54                     91.7      OpenChannel   \n",
       "2                 11.00                    152.5      OpenChannel   \n",
       "3                  7.32                     37.0          Manhole   \n",
       "4                  4.50                    292.4      OpenChannel   \n",
       "\n",
       "  rainfall_source  historical_rainfall(mm/hr)  return_period_years  \\\n",
       "0            ERA5                        39.4                   50   \n",
       "1            ERA5                        56.8                   25   \n",
       "2             IMD                        16.3                    5   \n",
       "3            ERA5                        77.0                   10   \n",
       "4            ERA5                        20.8                    5   \n",
       "\n",
       "                                  risk_labels  \n",
       "0                                     monitor  \n",
       "1  ponding_hotspot|low_lying|event_2025-05-02  \n",
       "2                                     monitor  \n",
       "3                                     monitor  \n",
       "4                                     monitor  "
      ]
     },
     "execution_count": 352,
     "metadata": {},
     "output_type": "execute_result"
    }
   ],
   "source": [
    "df.head()"
   ]
  },
  {
   "cell_type": "code",
   "execution_count": 353,
   "id": "81476a63",
   "metadata": {},
   "outputs": [],
   "source": [
    "df['risk']=df['risk_labels'].str.split('|',expand=True)[0]"
   ]
  },
  {
   "cell_type": "code",
   "execution_count": 354,
   "id": "2f96e913",
   "metadata": {},
   "outputs": [],
   "source": [
    "df['event_date']=df['risk_labels'].str.split('|',expand=True)[2]"
   ]
  },
  {
   "cell_type": "code",
   "execution_count": 355,
   "id": "bb133b48",
   "metadata": {},
   "outputs": [],
   "source": [
    "df=df.drop(columns='risk_labels')"
   ]
  },
  {
   "cell_type": "code",
   "execution_count": 356,
   "id": "63b875e4",
   "metadata": {},
   "outputs": [
    {
     "data": {
      "text/html": [
       "<div>\n",
       "<style scoped>\n",
       "    .dataframe tbody tr th:only-of-type {\n",
       "        vertical-align: middle;\n",
       "    }\n",
       "\n",
       "    .dataframe tbody tr th {\n",
       "        vertical-align: top;\n",
       "    }\n",
       "\n",
       "    .dataframe thead th {\n",
       "        text-align: right;\n",
       "    }\n",
       "</style>\n",
       "<table border=\"1\" class=\"dataframe\">\n",
       "  <thead>\n",
       "    <tr style=\"text-align: right;\">\n",
       "      <th></th>\n",
       "      <th>segment_id</th>\n",
       "      <th>city</th>\n",
       "      <th>admin_ward</th>\n",
       "      <th>latitude</th>\n",
       "      <th>longitude</th>\n",
       "      <th>catchment_id</th>\n",
       "      <th>elevation_m</th>\n",
       "      <th>dem_source</th>\n",
       "      <th>land_use</th>\n",
       "      <th>soil_group</th>\n",
       "      <th>drainage_density(km)</th>\n",
       "      <th>storm_drain_proximity_m</th>\n",
       "      <th>storm_drain_type</th>\n",
       "      <th>rainfall_source</th>\n",
       "      <th>historical_rainfall(mm/hr)</th>\n",
       "      <th>return_period_years</th>\n",
       "      <th>risk</th>\n",
       "      <th>event_date</th>\n",
       "    </tr>\n",
       "  </thead>\n",
       "  <tbody>\n",
       "    <tr>\n",
       "      <th>0</th>\n",
       "      <td>SEG-00001</td>\n",
       "      <td>Colombo, Sri Lanka</td>\n",
       "      <td>Borough East</td>\n",
       "      <td>6.920633</td>\n",
       "      <td>79.912600</td>\n",
       "      <td>CAT-136</td>\n",
       "      <td>25.13</td>\n",
       "      <td>Copernicus_EEA-10_v5</td>\n",
       "      <td>Institutional</td>\n",
       "      <td>B</td>\n",
       "      <td>4.27</td>\n",
       "      <td>160.5</td>\n",
       "      <td>CurbInlet</td>\n",
       "      <td>ERA5</td>\n",
       "      <td>39.4</td>\n",
       "      <td>50</td>\n",
       "      <td>monitor</td>\n",
       "      <td>None</td>\n",
       "    </tr>\n",
       "    <tr>\n",
       "      <th>1</th>\n",
       "      <td>SEG-00002</td>\n",
       "      <td>Chennai, India</td>\n",
       "      <td>Ward D</td>\n",
       "      <td>13.076487</td>\n",
       "      <td>80.281774</td>\n",
       "      <td>CAT-049</td>\n",
       "      <td>-2.19</td>\n",
       "      <td>Copernicus_EEA-10_v5</td>\n",
       "      <td>Residential</td>\n",
       "      <td>D</td>\n",
       "      <td>7.54</td>\n",
       "      <td>91.7</td>\n",
       "      <td>OpenChannel</td>\n",
       "      <td>ERA5</td>\n",
       "      <td>56.8</td>\n",
       "      <td>25</td>\n",
       "      <td>ponding_hotspot</td>\n",
       "      <td>event_2025-05-02</td>\n",
       "    </tr>\n",
       "    <tr>\n",
       "      <th>2</th>\n",
       "      <td>SEG-00003</td>\n",
       "      <td>Ahmedabad, India</td>\n",
       "      <td>Sector 12</td>\n",
       "      <td>23.019473</td>\n",
       "      <td>72.638578</td>\n",
       "      <td>CAT-023</td>\n",
       "      <td>30.88</td>\n",
       "      <td>SRTM_3arc</td>\n",
       "      <td>Industrial</td>\n",
       "      <td>B</td>\n",
       "      <td>11.00</td>\n",
       "      <td>152.5</td>\n",
       "      <td>OpenChannel</td>\n",
       "      <td>IMD</td>\n",
       "      <td>16.3</td>\n",
       "      <td>5</td>\n",
       "      <td>monitor</td>\n",
       "      <td>None</td>\n",
       "    </tr>\n",
       "    <tr>\n",
       "      <th>3</th>\n",
       "      <td>SEG-00004</td>\n",
       "      <td>Hong Kong, China</td>\n",
       "      <td>Sector 14</td>\n",
       "      <td>22.302602</td>\n",
       "      <td>114.078673</td>\n",
       "      <td>CAT-168</td>\n",
       "      <td>24.28</td>\n",
       "      <td>SRTM_3arc</td>\n",
       "      <td>Residential</td>\n",
       "      <td>B</td>\n",
       "      <td>7.32</td>\n",
       "      <td>37.0</td>\n",
       "      <td>Manhole</td>\n",
       "      <td>ERA5</td>\n",
       "      <td>77.0</td>\n",
       "      <td>10</td>\n",
       "      <td>monitor</td>\n",
       "      <td>None</td>\n",
       "    </tr>\n",
       "    <tr>\n",
       "      <th>4</th>\n",
       "      <td>SEG-00005</td>\n",
       "      <td>Durban, South Africa</td>\n",
       "      <td>Sector 5</td>\n",
       "      <td>-29.887602</td>\n",
       "      <td>30.911008</td>\n",
       "      <td>CAT-171</td>\n",
       "      <td>35.70</td>\n",
       "      <td>SRTM_3arc</td>\n",
       "      <td>Industrial</td>\n",
       "      <td>C</td>\n",
       "      <td>4.50</td>\n",
       "      <td>292.4</td>\n",
       "      <td>OpenChannel</td>\n",
       "      <td>ERA5</td>\n",
       "      <td>20.8</td>\n",
       "      <td>5</td>\n",
       "      <td>monitor</td>\n",
       "      <td>None</td>\n",
       "    </tr>\n",
       "  </tbody>\n",
       "</table>\n",
       "</div>"
      ],
      "text/plain": [
       "  segment_id                  city    admin_ward   latitude   longitude  \\\n",
       "0  SEG-00001    Colombo, Sri Lanka  Borough East   6.920633   79.912600   \n",
       "1  SEG-00002        Chennai, India        Ward D  13.076487   80.281774   \n",
       "2  SEG-00003      Ahmedabad, India     Sector 12  23.019473   72.638578   \n",
       "3  SEG-00004      Hong Kong, China     Sector 14  22.302602  114.078673   \n",
       "4  SEG-00005  Durban, South Africa      Sector 5 -29.887602   30.911008   \n",
       "\n",
       "  catchment_id  elevation_m            dem_source       land_use soil_group  \\\n",
       "0      CAT-136        25.13  Copernicus_EEA-10_v5  Institutional          B   \n",
       "1      CAT-049        -2.19  Copernicus_EEA-10_v5    Residential          D   \n",
       "2      CAT-023        30.88             SRTM_3arc     Industrial          B   \n",
       "3      CAT-168        24.28             SRTM_3arc    Residential          B   \n",
       "4      CAT-171        35.70             SRTM_3arc     Industrial          C   \n",
       "\n",
       "   drainage_density(km)  storm_drain_proximity_m storm_drain_type  \\\n",
       "0                  4.27                    160.5        CurbInlet   \n",
       "1                  7.54                     91.7      OpenChannel   \n",
       "2                 11.00                    152.5      OpenChannel   \n",
       "3                  7.32                     37.0          Manhole   \n",
       "4                  4.50                    292.4      OpenChannel   \n",
       "\n",
       "  rainfall_source  historical_rainfall(mm/hr)  return_period_years  \\\n",
       "0            ERA5                        39.4                   50   \n",
       "1            ERA5                        56.8                   25   \n",
       "2             IMD                        16.3                    5   \n",
       "3            ERA5                        77.0                   10   \n",
       "4            ERA5                        20.8                    5   \n",
       "\n",
       "              risk        event_date  \n",
       "0          monitor              None  \n",
       "1  ponding_hotspot  event_2025-05-02  \n",
       "2          monitor              None  \n",
       "3          monitor              None  \n",
       "4          monitor              None  "
      ]
     },
     "execution_count": 356,
     "metadata": {},
     "output_type": "execute_result"
    }
   ],
   "source": [
    "df.head()"
   ]
  },
  {
   "cell_type": "code",
   "execution_count": 357,
   "id": "370065b9",
   "metadata": {},
   "outputs": [],
   "source": [
    "df['event_date']=df['event_date'].fillna('unknown')"
   ]
  },
  {
   "cell_type": "code",
   "execution_count": 358,
   "id": "020cabcb",
   "metadata": {},
   "outputs": [],
   "source": [
    "df['city']=df['city'].str.split(',',expand=True)[1]"
   ]
  },
  {
   "cell_type": "code",
   "execution_count": 359,
   "id": "4f8eec02",
   "metadata": {},
   "outputs": [
    {
     "data": {
      "text/html": [
       "<div>\n",
       "<style scoped>\n",
       "    .dataframe tbody tr th:only-of-type {\n",
       "        vertical-align: middle;\n",
       "    }\n",
       "\n",
       "    .dataframe tbody tr th {\n",
       "        vertical-align: top;\n",
       "    }\n",
       "\n",
       "    .dataframe thead th {\n",
       "        text-align: right;\n",
       "    }\n",
       "</style>\n",
       "<table border=\"1\" class=\"dataframe\">\n",
       "  <thead>\n",
       "    <tr style=\"text-align: right;\">\n",
       "      <th></th>\n",
       "      <th>segment_id</th>\n",
       "      <th>city</th>\n",
       "      <th>admin_ward</th>\n",
       "      <th>latitude</th>\n",
       "      <th>longitude</th>\n",
       "      <th>catchment_id</th>\n",
       "      <th>elevation_m</th>\n",
       "      <th>dem_source</th>\n",
       "      <th>land_use</th>\n",
       "      <th>soil_group</th>\n",
       "      <th>drainage_density(km)</th>\n",
       "      <th>storm_drain_proximity_m</th>\n",
       "      <th>storm_drain_type</th>\n",
       "      <th>rainfall_source</th>\n",
       "      <th>historical_rainfall(mm/hr)</th>\n",
       "      <th>return_period_years</th>\n",
       "      <th>risk</th>\n",
       "      <th>event_date</th>\n",
       "    </tr>\n",
       "  </thead>\n",
       "  <tbody>\n",
       "    <tr>\n",
       "      <th>0</th>\n",
       "      <td>SEG-00001</td>\n",
       "      <td>Sri Lanka</td>\n",
       "      <td>Borough East</td>\n",
       "      <td>6.920633</td>\n",
       "      <td>79.912600</td>\n",
       "      <td>CAT-136</td>\n",
       "      <td>25.13</td>\n",
       "      <td>Copernicus_EEA-10_v5</td>\n",
       "      <td>Institutional</td>\n",
       "      <td>B</td>\n",
       "      <td>4.27</td>\n",
       "      <td>160.5</td>\n",
       "      <td>CurbInlet</td>\n",
       "      <td>ERA5</td>\n",
       "      <td>39.4</td>\n",
       "      <td>50</td>\n",
       "      <td>monitor</td>\n",
       "      <td>unknown</td>\n",
       "    </tr>\n",
       "    <tr>\n",
       "      <th>1</th>\n",
       "      <td>SEG-00002</td>\n",
       "      <td>India</td>\n",
       "      <td>Ward D</td>\n",
       "      <td>13.076487</td>\n",
       "      <td>80.281774</td>\n",
       "      <td>CAT-049</td>\n",
       "      <td>-2.19</td>\n",
       "      <td>Copernicus_EEA-10_v5</td>\n",
       "      <td>Residential</td>\n",
       "      <td>D</td>\n",
       "      <td>7.54</td>\n",
       "      <td>91.7</td>\n",
       "      <td>OpenChannel</td>\n",
       "      <td>ERA5</td>\n",
       "      <td>56.8</td>\n",
       "      <td>25</td>\n",
       "      <td>ponding_hotspot</td>\n",
       "      <td>event_2025-05-02</td>\n",
       "    </tr>\n",
       "    <tr>\n",
       "      <th>2</th>\n",
       "      <td>SEG-00003</td>\n",
       "      <td>India</td>\n",
       "      <td>Sector 12</td>\n",
       "      <td>23.019473</td>\n",
       "      <td>72.638578</td>\n",
       "      <td>CAT-023</td>\n",
       "      <td>30.88</td>\n",
       "      <td>SRTM_3arc</td>\n",
       "      <td>Industrial</td>\n",
       "      <td>B</td>\n",
       "      <td>11.00</td>\n",
       "      <td>152.5</td>\n",
       "      <td>OpenChannel</td>\n",
       "      <td>IMD</td>\n",
       "      <td>16.3</td>\n",
       "      <td>5</td>\n",
       "      <td>monitor</td>\n",
       "      <td>unknown</td>\n",
       "    </tr>\n",
       "    <tr>\n",
       "      <th>3</th>\n",
       "      <td>SEG-00004</td>\n",
       "      <td>China</td>\n",
       "      <td>Sector 14</td>\n",
       "      <td>22.302602</td>\n",
       "      <td>114.078673</td>\n",
       "      <td>CAT-168</td>\n",
       "      <td>24.28</td>\n",
       "      <td>SRTM_3arc</td>\n",
       "      <td>Residential</td>\n",
       "      <td>B</td>\n",
       "      <td>7.32</td>\n",
       "      <td>37.0</td>\n",
       "      <td>Manhole</td>\n",
       "      <td>ERA5</td>\n",
       "      <td>77.0</td>\n",
       "      <td>10</td>\n",
       "      <td>monitor</td>\n",
       "      <td>unknown</td>\n",
       "    </tr>\n",
       "    <tr>\n",
       "      <th>4</th>\n",
       "      <td>SEG-00005</td>\n",
       "      <td>South Africa</td>\n",
       "      <td>Sector 5</td>\n",
       "      <td>-29.887602</td>\n",
       "      <td>30.911008</td>\n",
       "      <td>CAT-171</td>\n",
       "      <td>35.70</td>\n",
       "      <td>SRTM_3arc</td>\n",
       "      <td>Industrial</td>\n",
       "      <td>C</td>\n",
       "      <td>4.50</td>\n",
       "      <td>292.4</td>\n",
       "      <td>OpenChannel</td>\n",
       "      <td>ERA5</td>\n",
       "      <td>20.8</td>\n",
       "      <td>5</td>\n",
       "      <td>monitor</td>\n",
       "      <td>unknown</td>\n",
       "    </tr>\n",
       "  </tbody>\n",
       "</table>\n",
       "</div>"
      ],
      "text/plain": [
       "  segment_id           city    admin_ward   latitude   longitude catchment_id  \\\n",
       "0  SEG-00001      Sri Lanka  Borough East   6.920633   79.912600      CAT-136   \n",
       "1  SEG-00002          India        Ward D  13.076487   80.281774      CAT-049   \n",
       "2  SEG-00003          India     Sector 12  23.019473   72.638578      CAT-023   \n",
       "3  SEG-00004          China     Sector 14  22.302602  114.078673      CAT-168   \n",
       "4  SEG-00005   South Africa      Sector 5 -29.887602   30.911008      CAT-171   \n",
       "\n",
       "   elevation_m            dem_source       land_use soil_group  \\\n",
       "0        25.13  Copernicus_EEA-10_v5  Institutional          B   \n",
       "1        -2.19  Copernicus_EEA-10_v5    Residential          D   \n",
       "2        30.88             SRTM_3arc     Industrial          B   \n",
       "3        24.28             SRTM_3arc    Residential          B   \n",
       "4        35.70             SRTM_3arc     Industrial          C   \n",
       "\n",
       "   drainage_density(km)  storm_drain_proximity_m storm_drain_type  \\\n",
       "0                  4.27                    160.5        CurbInlet   \n",
       "1                  7.54                     91.7      OpenChannel   \n",
       "2                 11.00                    152.5      OpenChannel   \n",
       "3                  7.32                     37.0          Manhole   \n",
       "4                  4.50                    292.4      OpenChannel   \n",
       "\n",
       "  rainfall_source  historical_rainfall(mm/hr)  return_period_years  \\\n",
       "0            ERA5                        39.4                   50   \n",
       "1            ERA5                        56.8                   25   \n",
       "2             IMD                        16.3                    5   \n",
       "3            ERA5                        77.0                   10   \n",
       "4            ERA5                        20.8                    5   \n",
       "\n",
       "              risk        event_date  \n",
       "0          monitor           unknown  \n",
       "1  ponding_hotspot  event_2025-05-02  \n",
       "2          monitor           unknown  \n",
       "3          monitor           unknown  \n",
       "4          monitor           unknown  "
      ]
     },
     "execution_count": 359,
     "metadata": {},
     "output_type": "execute_result"
    }
   ],
   "source": [
    "df.head()"
   ]
  },
  {
   "cell_type": "code",
   "execution_count": 360,
   "id": "2b259895",
   "metadata": {},
   "outputs": [
    {
     "data": {
      "text/plain": [
       "segment_id                    0\n",
       "city                          0\n",
       "admin_ward                    0\n",
       "latitude                      0\n",
       "longitude                     0\n",
       "catchment_id                  0\n",
       "elevation_m                   0\n",
       "dem_source                    0\n",
       "land_use                      0\n",
       "soil_group                    0\n",
       "drainage_density(km)          0\n",
       "storm_drain_proximity_m       0\n",
       "storm_drain_type              0\n",
       "rainfall_source               0\n",
       "historical_rainfall(mm/hr)    0\n",
       "return_period_years           0\n",
       "risk                          0\n",
       "event_date                    0\n",
       "dtype: int64"
      ]
     },
     "execution_count": 360,
     "metadata": {},
     "output_type": "execute_result"
    }
   ],
   "source": [
    "df.isnull().sum()"
   ]
  },
  {
   "cell_type": "markdown",
   "id": "e5582829",
   "metadata": {},
   "source": [
    "# Analysis"
   ]
  },
  {
   "cell_type": "markdown",
   "id": "adfc3868",
   "metadata": {},
   "source": [
    "1. ----------------------------------------------------Dataset Basics-------------------------------------------------\n"
   ]
  },
  {
   "cell_type": "markdown",
   "id": "5a090318",
   "metadata": {},
   "source": [
    "How many total records are there in the dataset?\n",
    "\n",
    "What are the different risk_labels?\n",
    "\n",
    "How many segments fall under each risk label?"
   ]
  },
  {
   "cell_type": "code",
   "execution_count": 361,
   "id": "a589e4ce",
   "metadata": {},
   "outputs": [
    {
     "data": {
      "text/plain": [
       "2963"
      ]
     },
     "execution_count": 361,
     "metadata": {},
     "output_type": "execute_result"
    }
   ],
   "source": [
    "df.shape[0]"
   ]
  },
  {
   "cell_type": "code",
   "execution_count": 362,
   "id": "3fb97aa1",
   "metadata": {},
   "outputs": [
    {
     "data": {
      "text/plain": [
       "array(['monitor', 'ponding_hotspot', 'extreme_rain_history', 'low_lying',\n",
       "       'sparse_drainage'], dtype=object)"
      ]
     },
     "execution_count": 362,
     "metadata": {},
     "output_type": "execute_result"
    }
   ],
   "source": [
    "df['risk'].unique()"
   ]
  },
  {
   "cell_type": "code",
   "execution_count": 363,
   "id": "751b12d7",
   "metadata": {},
   "outputs": [
    {
     "data": {
      "text/plain": [
       "risk             catchment_id\n",
       "monitor          CAT-012         22\n",
       "                 CAT-070         20\n",
       "                 CAT-001         19\n",
       "                 CAT-038         19\n",
       "                 CAT-054         19\n",
       "                                 ..\n",
       "low_lying        CAT-085          1\n",
       "                 CAT-073          1\n",
       "                 CAT-051          1\n",
       "                 CAT-047          1\n",
       "sparse_drainage  CAT-178          1\n",
       "Name: count, Length: 667, dtype: int64"
      ]
     },
     "execution_count": 363,
     "metadata": {},
     "output_type": "execute_result"
    }
   ],
   "source": [
    "df.groupby('risk')['catchment_id'].value_counts().sort_values(ascending=False)"
   ]
  },
  {
   "cell_type": "markdown",
   "id": "98fc3264",
   "metadata": {},
   "source": [
    "2. -------------------------------------------------Geography & Environment----------------------------------------------\n",
    "\n",
    "Do low elevation areas have more flood risk than high elevation areas?\n",
    "\n",
    "Which soil type (A–D) is most common in risky areas?\n",
    "\n",
    "Which land use type (Residential, Industrial, Institutional) shows the highest flood risk?\n"
   ]
  },
  {
   "cell_type": "code",
   "execution_count": 364,
   "id": "c6c1971f",
   "metadata": {},
   "outputs": [
    {
     "data": {
      "text/html": [
       "<div>\n",
       "<style scoped>\n",
       "    .dataframe tbody tr th:only-of-type {\n",
       "        vertical-align: middle;\n",
       "    }\n",
       "\n",
       "    .dataframe tbody tr th {\n",
       "        vertical-align: top;\n",
       "    }\n",
       "\n",
       "    .dataframe thead th {\n",
       "        text-align: right;\n",
       "    }\n",
       "</style>\n",
       "<table border=\"1\" class=\"dataframe\">\n",
       "  <thead>\n",
       "    <tr style=\"text-align: right;\">\n",
       "      <th></th>\n",
       "      <th>segment_id</th>\n",
       "      <th>city</th>\n",
       "      <th>admin_ward</th>\n",
       "      <th>latitude</th>\n",
       "      <th>longitude</th>\n",
       "      <th>catchment_id</th>\n",
       "      <th>elevation_m</th>\n",
       "      <th>dem_source</th>\n",
       "      <th>land_use</th>\n",
       "      <th>soil_group</th>\n",
       "      <th>drainage_density(km)</th>\n",
       "      <th>storm_drain_proximity_m</th>\n",
       "      <th>storm_drain_type</th>\n",
       "      <th>rainfall_source</th>\n",
       "      <th>historical_rainfall(mm/hr)</th>\n",
       "      <th>return_period_years</th>\n",
       "      <th>risk</th>\n",
       "      <th>event_date</th>\n",
       "    </tr>\n",
       "  </thead>\n",
       "  <tbody>\n",
       "    <tr>\n",
       "      <th>0</th>\n",
       "      <td>SEG-00001</td>\n",
       "      <td>Sri Lanka</td>\n",
       "      <td>Borough East</td>\n",
       "      <td>6.920633</td>\n",
       "      <td>79.912600</td>\n",
       "      <td>CAT-136</td>\n",
       "      <td>25.13</td>\n",
       "      <td>Copernicus_EEA-10_v5</td>\n",
       "      <td>Institutional</td>\n",
       "      <td>B</td>\n",
       "      <td>4.27</td>\n",
       "      <td>160.5</td>\n",
       "      <td>CurbInlet</td>\n",
       "      <td>ERA5</td>\n",
       "      <td>39.4</td>\n",
       "      <td>50</td>\n",
       "      <td>monitor</td>\n",
       "      <td>unknown</td>\n",
       "    </tr>\n",
       "    <tr>\n",
       "      <th>1</th>\n",
       "      <td>SEG-00002</td>\n",
       "      <td>India</td>\n",
       "      <td>Ward D</td>\n",
       "      <td>13.076487</td>\n",
       "      <td>80.281774</td>\n",
       "      <td>CAT-049</td>\n",
       "      <td>-2.19</td>\n",
       "      <td>Copernicus_EEA-10_v5</td>\n",
       "      <td>Residential</td>\n",
       "      <td>D</td>\n",
       "      <td>7.54</td>\n",
       "      <td>91.7</td>\n",
       "      <td>OpenChannel</td>\n",
       "      <td>ERA5</td>\n",
       "      <td>56.8</td>\n",
       "      <td>25</td>\n",
       "      <td>ponding_hotspot</td>\n",
       "      <td>event_2025-05-02</td>\n",
       "    </tr>\n",
       "    <tr>\n",
       "      <th>2</th>\n",
       "      <td>SEG-00003</td>\n",
       "      <td>India</td>\n",
       "      <td>Sector 12</td>\n",
       "      <td>23.019473</td>\n",
       "      <td>72.638578</td>\n",
       "      <td>CAT-023</td>\n",
       "      <td>30.88</td>\n",
       "      <td>SRTM_3arc</td>\n",
       "      <td>Industrial</td>\n",
       "      <td>B</td>\n",
       "      <td>11.00</td>\n",
       "      <td>152.5</td>\n",
       "      <td>OpenChannel</td>\n",
       "      <td>IMD</td>\n",
       "      <td>16.3</td>\n",
       "      <td>5</td>\n",
       "      <td>monitor</td>\n",
       "      <td>unknown</td>\n",
       "    </tr>\n",
       "    <tr>\n",
       "      <th>3</th>\n",
       "      <td>SEG-00004</td>\n",
       "      <td>China</td>\n",
       "      <td>Sector 14</td>\n",
       "      <td>22.302602</td>\n",
       "      <td>114.078673</td>\n",
       "      <td>CAT-168</td>\n",
       "      <td>24.28</td>\n",
       "      <td>SRTM_3arc</td>\n",
       "      <td>Residential</td>\n",
       "      <td>B</td>\n",
       "      <td>7.32</td>\n",
       "      <td>37.0</td>\n",
       "      <td>Manhole</td>\n",
       "      <td>ERA5</td>\n",
       "      <td>77.0</td>\n",
       "      <td>10</td>\n",
       "      <td>monitor</td>\n",
       "      <td>unknown</td>\n",
       "    </tr>\n",
       "    <tr>\n",
       "      <th>4</th>\n",
       "      <td>SEG-00005</td>\n",
       "      <td>South Africa</td>\n",
       "      <td>Sector 5</td>\n",
       "      <td>-29.887602</td>\n",
       "      <td>30.911008</td>\n",
       "      <td>CAT-171</td>\n",
       "      <td>35.70</td>\n",
       "      <td>SRTM_3arc</td>\n",
       "      <td>Industrial</td>\n",
       "      <td>C</td>\n",
       "      <td>4.50</td>\n",
       "      <td>292.4</td>\n",
       "      <td>OpenChannel</td>\n",
       "      <td>ERA5</td>\n",
       "      <td>20.8</td>\n",
       "      <td>5</td>\n",
       "      <td>monitor</td>\n",
       "      <td>unknown</td>\n",
       "    </tr>\n",
       "  </tbody>\n",
       "</table>\n",
       "</div>"
      ],
      "text/plain": [
       "  segment_id           city    admin_ward   latitude   longitude catchment_id  \\\n",
       "0  SEG-00001      Sri Lanka  Borough East   6.920633   79.912600      CAT-136   \n",
       "1  SEG-00002          India        Ward D  13.076487   80.281774      CAT-049   \n",
       "2  SEG-00003          India     Sector 12  23.019473   72.638578      CAT-023   \n",
       "3  SEG-00004          China     Sector 14  22.302602  114.078673      CAT-168   \n",
       "4  SEG-00005   South Africa      Sector 5 -29.887602   30.911008      CAT-171   \n",
       "\n",
       "   elevation_m            dem_source       land_use soil_group  \\\n",
       "0        25.13  Copernicus_EEA-10_v5  Institutional          B   \n",
       "1        -2.19  Copernicus_EEA-10_v5    Residential          D   \n",
       "2        30.88             SRTM_3arc     Industrial          B   \n",
       "3        24.28             SRTM_3arc    Residential          B   \n",
       "4        35.70             SRTM_3arc     Industrial          C   \n",
       "\n",
       "   drainage_density(km)  storm_drain_proximity_m storm_drain_type  \\\n",
       "0                  4.27                    160.5        CurbInlet   \n",
       "1                  7.54                     91.7      OpenChannel   \n",
       "2                 11.00                    152.5      OpenChannel   \n",
       "3                  7.32                     37.0          Manhole   \n",
       "4                  4.50                    292.4      OpenChannel   \n",
       "\n",
       "  rainfall_source  historical_rainfall(mm/hr)  return_period_years  \\\n",
       "0            ERA5                        39.4                   50   \n",
       "1            ERA5                        56.8                   25   \n",
       "2             IMD                        16.3                    5   \n",
       "3            ERA5                        77.0                   10   \n",
       "4            ERA5                        20.8                    5   \n",
       "\n",
       "              risk        event_date  \n",
       "0          monitor           unknown  \n",
       "1  ponding_hotspot  event_2025-05-02  \n",
       "2          monitor           unknown  \n",
       "3          monitor           unknown  \n",
       "4          monitor           unknown  "
      ]
     },
     "execution_count": 364,
     "metadata": {},
     "output_type": "execute_result"
    }
   ],
   "source": [
    "df.head()"
   ]
  },
  {
   "cell_type": "code",
   "execution_count": 365,
   "id": "293dd514",
   "metadata": {},
   "outputs": [
    {
     "data": {
      "text/plain": [
       "array(['Copernicus_EEA-10_v5', 'SRTM_3arc', 'Copernicus_GLO-30_v2023',\n",
       "       'SRTM_1arc', 'Copernicus_GLO-90_v2022'], dtype=object)"
      ]
     },
     "execution_count": 365,
     "metadata": {},
     "output_type": "execute_result"
    }
   ],
   "source": [
    "df['dem_source'].unique()"
   ]
  },
  {
   "cell_type": "code",
   "execution_count": 366,
   "id": "5eeecedf",
   "metadata": {},
   "outputs": [
    {
     "data": {
      "text/plain": [
       "dem_source               soil_group\n",
       "Copernicus_GLO-30_v2023  B             331\n",
       "SRTM_1arc                B             287\n",
       "Copernicus_GLO-30_v2023  C             233\n",
       "SRTM_3arc                B             214\n",
       "Copernicus_EEA-10_v5     B             183\n",
       "SRTM_1arc                C             181\n",
       "Copernicus_GLO-30_v2023  D             168\n",
       "SRTM_1arc                D             161\n",
       "                         A             154\n",
       "Copernicus_GLO-30_v2023  A             137\n",
       "SRTM_3arc                C             118\n",
       "                         A             117\n",
       "Copernicus_EEA-10_v5     C             116\n",
       "                         D             105\n",
       "SRTM_3arc                D             101\n",
       "Copernicus_EEA-10_v5     A              96\n",
       "Copernicus_GLO-90_v2022  B              94\n",
       "                         C              65\n",
       "                         D              59\n",
       "                         A              43\n",
       "Name: count, dtype: int64"
      ]
     },
     "execution_count": 366,
     "metadata": {},
     "output_type": "execute_result"
    }
   ],
   "source": [
    "df[['dem_source','soil_group']].value_counts().sort_values(ascending=False)"
   ]
  },
  {
   "cell_type": "code",
   "execution_count": 367,
   "id": "4bd4d309",
   "metadata": {},
   "outputs": [
    {
     "data": {
      "text/plain": [
       "risk             land_use   \n",
       "monitor          Residential    535\n",
       "                 Roads          417\n",
       "                 Commercial     357\n",
       "                 Industrial     257\n",
       "                 Green          211\n",
       "low_lying        Residential    119\n",
       "                 Roads           88\n",
       "                 Commercial      77\n",
       "ponding_hotspot  Residential     73\n",
       "monitor          Mixed           72\n",
       "Name: count, dtype: int64"
      ]
     },
     "execution_count": 367,
     "metadata": {},
     "output_type": "execute_result"
    }
   ],
   "source": [
    "df.groupby('risk')['land_use'].value_counts().sort_values(ascending=False).head(10)"
   ]
  },
  {
   "cell_type": "markdown",
   "id": "1f2f9906",
   "metadata": {},
   "source": [
    "3. ------------------------------------------------Infrastructure------------------------------------------------\n",
    "\n",
    "Are places closer to drains safer compared to those far away?\n",
    "\n",
    "Which drain type (Open Channel, Manhole, Curb Inlet) is seen more in risky areas?\n"
   ]
  },
  {
   "cell_type": "code",
   "execution_count": 368,
   "id": "f5dd57bb",
   "metadata": {},
   "outputs": [
    {
     "data": {
      "text/plain": [
       "storm_drain_type\n",
       "CurbInlet      1021\n",
       "Manhole         749\n",
       "GratedInlet     644\n",
       "OpenChannel     549\n",
       "Name: count, dtype: int64"
      ]
     },
     "execution_count": 368,
     "metadata": {},
     "output_type": "execute_result"
    }
   ],
   "source": [
    "df['storm_drain_type'].value_counts()"
   ]
  },
  {
   "cell_type": "markdown",
   "id": "8bb75da0",
   "metadata": {},
   "source": [
    "4. ------------------------------------------------Rainfall------------------------------------------------\n",
    "\n",
    "Do areas with higher rainfall intensity face more flooding?\n",
    "\n",
    "Does flood risk increase with longer return periods (5 vs 25 vs 50 years)?"
   ]
  },
  {
   "cell_type": "code",
   "execution_count": 369,
   "id": "3d17daf6",
   "metadata": {},
   "outputs": [
    {
     "data": {
      "text/plain": [
       "rainfall_source\n",
       "ERA5          1649\n",
       "LocalGauge     502\n",
       "Blended        445\n",
       "IMD            367\n",
       "Name: count, dtype: int64"
      ]
     },
     "execution_count": 369,
     "metadata": {},
     "output_type": "execute_result"
    }
   ],
   "source": [
    "df['rainfall_source'].value_counts()"
   ]
  },
  {
   "cell_type": "code",
   "execution_count": null,
   "id": "c90b1649",
   "metadata": {},
   "outputs": [
    {
     "data": {
      "image/png": "[encoded data removed]",
      "text/plain": [
       "<Figure size 600x400 with 1 Axes>"
      ]
     },
     "metadata": {},
     "output_type": "display_data"
    }
   ],
   "source": [
    "plt.figure(figsize=(6,4))\n",
    "sns.countplot(df,x='rainfall_source')\n",
    "plt.title('Rainfall area face more flooding')\n",
    "plt.show()"
   ]
  },
  {
   "cell_type": "markdown",
   "id": "09cb58c8",
   "metadata": {},
   "source": [
    "**ERA5 rainfall area faced more flooding risk**"
   ]
  },
  {
   "cell_type": "code",
   "execution_count": 371,
   "id": "f0e7019e",
   "metadata": {},
   "outputs": [
    {
     "data": {
      "image/png": "[encoded data removed]",
      "text/plain": [
       "<Figure size 1000x400 with 1 Axes>"
      ]
     },
     "metadata": {},
     "output_type": "display_data"
    }
   ],
   "source": [
    "plt.figure(figsize=(10,4))\n",
    "sns.barplot(df,x='risk',y='return_period_years')\n",
    "plt.title('flood risk increase with longer return periods')\n",
    "plt.show()"
   ]
  },
  {
   "cell_type": "markdown",
   "id": "00a20262",
   "metadata": {},
   "source": [
    "**we can see that longer return period like 35-40 years extreme rain history risk higer compared to monitor,ponding,hotspot,low lying**"
   ]
  },
  {
   "cell_type": "markdown",
   "id": "7c5788fe",
   "metadata": {},
   "source": [
    "5. ------------------------------------------------Location Insights------------------------------------------------\n",
    "\n",
    "Which city has the highest number of flood hotspots?\n",
    "\n",
    "Within a city, which wards are most affected?"
   ]
  },
  {
   "cell_type": "code",
   "execution_count": 377,
   "id": "97d6d28f",
   "metadata": {},
   "outputs": [
    {
     "data": {
      "text/plain": [
       "city\n",
       "India          33\n",
       "China          23\n",
       "USA            20\n",
       "Philippines    13\n",
       "Singapore      12\n",
       "Name: count, dtype: int64"
      ]
     },
     "execution_count": 377,
     "metadata": {},
     "output_type": "execute_result"
    }
   ],
   "source": [
    "flood_hotspot=df.query(\"risk=='ponding_hotspot'\")['city'].value_counts().head(5)\n",
    "flood_hotspot"
   ]
  },
  {
   "cell_type": "code",
   "execution_count": 379,
   "id": "19ccdaa9",
   "metadata": {},
   "outputs": [
    {
     "data": {
      "image/png": "[encoded data removed]",
      "text/plain": [
       "<Figure size 600x400 with 1 Axes>"
      ]
     },
     "metadata": {},
     "output_type": "display_data"
    }
   ],
   "source": [
    "plt.figure(figsize=(6,4))\n",
    "flood_hotspot.plot(kind='bar')\n",
    "plt.title('Highest number of flood hotspot risk in city')\n",
    "plt.show()"
   ]
  },
  {
   "cell_type": "markdown",
   "id": "5ee4072d",
   "metadata": {},
   "source": [
    "**In india risk of flooding hotspot highest compared to china,USA**"
   ]
  },
  {
   "cell_type": "code",
   "execution_count": 388,
   "id": "95d153fd",
   "metadata": {},
   "outputs": [
    {
     "data": {
      "text/plain": [
       "city   admin_ward       \n",
       "USA    Zone V               13\n",
       "India  Ward H               12\n",
       "USA    Borough Hillside     12\n",
       "       Borough West         11\n",
       "India  Borough Delta        11\n",
       "       Ward E               11\n",
       "       Zone I               11\n",
       "       Borough West         10\n",
       "USA    Zone VI              10\n",
       "       Borough Riverside    10\n",
       "Name: count, dtype: int64"
      ]
     },
     "execution_count": 388,
     "metadata": {},
     "output_type": "execute_result"
    }
   ],
   "source": [
    "df.groupby('city')['admin_ward'].value_counts().sort_values(ascending=False).head(10)"
   ]
  },
  {
   "cell_type": "markdown",
   "id": "a36258de",
   "metadata": {},
   "source": [
    "**USA, Zone v admin_ward most affected**"
   ]
  },
  {
   "cell_type": "markdown",
   "id": "76275eba",
   "metadata": {},
   "source": [
    "6.------------------------------------------------Combined Factors & Trends------------------------------------------------\n",
    "\n",
    "Which 2–3 factors combined (e.g., low elevation + residential + high rainfall) appear most often in risky areas?\n",
    "\n",
    "What patterns or trends can be seen in the dataset overall?"
   ]
  },
  {
   "cell_type": "code",
   "execution_count": 394,
   "id": "95f8087c",
   "metadata": {},
   "outputs": [
    {
     "data": {
      "image/png": "[encoded data removed]",
      "text/plain": [
       "<Figure size 1000x400 with 1 Axes>"
      ]
     },
     "metadata": {},
     "output_type": "display_data"
    }
   ],
   "source": [
    "plt.figure(figsize=(10,4))\n",
    "sns.barplot(df,x='risk',y='historical_rainfall(mm/hr)')\n",
    "plt.title('flood risk increase based on rainfall')\n",
    "plt.show()"
   ]
  },
  {
   "cell_type": "markdown",
   "id": "5b034ff1",
   "metadata": {},
   "source": [
    "7.------------------------------------------------Decision & Action------------------------------------------------\n",
    "\n",
    "Which areas (or regions) are at highest risk of flooding?\n",
    "\n",
    "Which locations must be prioritized for flood prevention measures?\n",
    "\n",
    "Which areas are safest for new houses or infrastructure?\n",
    "\n",
    "Which villages/towns need early flood warning systems immediately?\n",
    "\n",
    "Should resources (funds, manpower) be focused on high rainfall zones, clay soil regions, or urbanized areas?\n",
    "\n",
    "What is the top recommendation for reducing flood risk in this region?"
   ]
  },
  {
   "cell_type": "code",
   "execution_count": 395,
   "id": "97653d02",
   "metadata": {},
   "outputs": [
    {
     "data": {
      "text/html": [
       "<div>\n",
       "<style scoped>\n",
       "    .dataframe tbody tr th:only-of-type {\n",
       "        vertical-align: middle;\n",
       "    }\n",
       "\n",
       "    .dataframe tbody tr th {\n",
       "        vertical-align: top;\n",
       "    }\n",
       "\n",
       "    .dataframe thead th {\n",
       "        text-align: right;\n",
       "    }\n",
       "</style>\n",
       "<table border=\"1\" class=\"dataframe\">\n",
       "  <thead>\n",
       "    <tr style=\"text-align: right;\">\n",
       "      <th></th>\n",
       "      <th>segment_id</th>\n",
       "      <th>city</th>\n",
       "      <th>admin_ward</th>\n",
       "      <th>latitude</th>\n",
       "      <th>longitude</th>\n",
       "      <th>catchment_id</th>\n",
       "      <th>elevation_m</th>\n",
       "      <th>dem_source</th>\n",
       "      <th>land_use</th>\n",
       "      <th>soil_group</th>\n",
       "      <th>drainage_density(km)</th>\n",
       "      <th>storm_drain_proximity_m</th>\n",
       "      <th>storm_drain_type</th>\n",
       "      <th>rainfall_source</th>\n",
       "      <th>historical_rainfall(mm/hr)</th>\n",
       "      <th>return_period_years</th>\n",
       "      <th>risk</th>\n",
       "      <th>event_date</th>\n",
       "    </tr>\n",
       "  </thead>\n",
       "  <tbody>\n",
       "    <tr>\n",
       "      <th>0</th>\n",
       "      <td>SEG-00001</td>\n",
       "      <td>Sri Lanka</td>\n",
       "      <td>Borough East</td>\n",
       "      <td>6.920633</td>\n",
       "      <td>79.912600</td>\n",
       "      <td>CAT-136</td>\n",
       "      <td>25.13</td>\n",
       "      <td>Copernicus_EEA-10_v5</td>\n",
       "      <td>Institutional</td>\n",
       "      <td>B</td>\n",
       "      <td>4.27</td>\n",
       "      <td>160.5</td>\n",
       "      <td>CurbInlet</td>\n",
       "      <td>ERA5</td>\n",
       "      <td>39.4</td>\n",
       "      <td>50</td>\n",
       "      <td>monitor</td>\n",
       "      <td>unknown</td>\n",
       "    </tr>\n",
       "    <tr>\n",
       "      <th>1</th>\n",
       "      <td>SEG-00002</td>\n",
       "      <td>India</td>\n",
       "      <td>Ward D</td>\n",
       "      <td>13.076487</td>\n",
       "      <td>80.281774</td>\n",
       "      <td>CAT-049</td>\n",
       "      <td>-2.19</td>\n",
       "      <td>Copernicus_EEA-10_v5</td>\n",
       "      <td>Residential</td>\n",
       "      <td>D</td>\n",
       "      <td>7.54</td>\n",
       "      <td>91.7</td>\n",
       "      <td>OpenChannel</td>\n",
       "      <td>ERA5</td>\n",
       "      <td>56.8</td>\n",
       "      <td>25</td>\n",
       "      <td>ponding_hotspot</td>\n",
       "      <td>event_2025-05-02</td>\n",
       "    </tr>\n",
       "    <tr>\n",
       "      <th>2</th>\n",
       "      <td>SEG-00003</td>\n",
       "      <td>India</td>\n",
       "      <td>Sector 12</td>\n",
       "      <td>23.019473</td>\n",
       "      <td>72.638578</td>\n",
       "      <td>CAT-023</td>\n",
       "      <td>30.88</td>\n",
       "      <td>SRTM_3arc</td>\n",
       "      <td>Industrial</td>\n",
       "      <td>B</td>\n",
       "      <td>11.00</td>\n",
       "      <td>152.5</td>\n",
       "      <td>OpenChannel</td>\n",
       "      <td>IMD</td>\n",
       "      <td>16.3</td>\n",
       "      <td>5</td>\n",
       "      <td>monitor</td>\n",
       "      <td>unknown</td>\n",
       "    </tr>\n",
       "  </tbody>\n",
       "</table>\n",
       "</div>"
      ],
      "text/plain": [
       "  segment_id        city    admin_ward   latitude  longitude catchment_id  \\\n",
       "0  SEG-00001   Sri Lanka  Borough East   6.920633  79.912600      CAT-136   \n",
       "1  SEG-00002       India        Ward D  13.076487  80.281774      CAT-049   \n",
       "2  SEG-00003       India     Sector 12  23.019473  72.638578      CAT-023   \n",
       "\n",
       "   elevation_m            dem_source       land_use soil_group  \\\n",
       "0        25.13  Copernicus_EEA-10_v5  Institutional          B   \n",
       "1        -2.19  Copernicus_EEA-10_v5    Residential          D   \n",
       "2        30.88             SRTM_3arc     Industrial          B   \n",
       "\n",
       "   drainage_density(km)  storm_drain_proximity_m storm_drain_type  \\\n",
       "0                  4.27                    160.5        CurbInlet   \n",
       "1                  7.54                     91.7      OpenChannel   \n",
       "2                 11.00                    152.5      OpenChannel   \n",
       "\n",
       "  rainfall_source  historical_rainfall(mm/hr)  return_period_years  \\\n",
       "0            ERA5                        39.4                   50   \n",
       "1            ERA5                        56.8                   25   \n",
       "2             IMD                        16.3                    5   \n",
       "\n",
       "              risk        event_date  \n",
       "0          monitor           unknown  \n",
       "1  ponding_hotspot  event_2025-05-02  \n",
       "2          monitor           unknown  "
      ]
     },
     "execution_count": 395,
     "metadata": {},
     "output_type": "execute_result"
    }
   ],
   "source": [
    "df.head(3)"
   ]
  },
  {
   "cell_type": "code",
   "execution_count": 399,
   "id": "ac5b1a31",
   "metadata": {},
   "outputs": [
    {
     "data": {
      "text/plain": [
       "catchment_id\n",
       "CAT-012    28\n",
       "CAT-163    27\n",
       "CAT-005    26\n",
       "CAT-038    26\n",
       "CAT-091    25\n",
       "Name: count, dtype: int64"
      ]
     },
     "execution_count": 399,
     "metadata": {},
     "output_type": "execute_result"
    }
   ],
   "source": [
    "df['catchment_id'].value_counts().head()"
   ]
  },
  {
   "cell_type": "code",
   "execution_count": 400,
   "id": "c9615ba4",
   "metadata": {},
   "outputs": [
    {
     "data": {
      "text/plain": [
       "city\n",
       "India           375\n",
       "USA             363\n",
       "China           158\n",
       "South Africa    104\n",
       "Netherlands     104\n",
       "Name: count, dtype: int64"
      ]
     },
     "execution_count": 400,
     "metadata": {},
     "output_type": "execute_result"
    }
   ],
   "source": [
    "df['city'].value_counts().head()"
   ]
  },
  {
   "cell_type": "markdown",
   "id": "e7d917a4",
   "metadata": {},
   "source": []
  },
  {
   "cell_type": "markdown",
   "id": "55142505",
   "metadata": {},
   "source": []
  },
  {
   "cell_type": "markdown",
   "id": "af7d8534",
   "metadata": {},
   "source": [
    "**Conclusion: ERA5 rainfall area faced more flooding risk,In India  flooding risk was higer compared to USA because for extreme rainfall and also based on CurbInlet storm drain type.residensial area was most affected**"
   ]
  },
  {
   "cell_type": "code",
   "execution_count": null,
   "id": "038d457d",
   "metadata": {},
   "outputs": [],
   "source": []
  },
  {
   "cell_type": "code",
   "execution_count": null,
   "id": "36cc0ad7",
   "metadata": {},
   "outputs": [],
   "source": []
  },
  {
   "cell_type": "markdown",
   "id": "5ebcc428",
   "metadata": {},
   "source": []
  }
 ],
 "metadata": {
  "kernelspec": {
   "display_name": "base",
   "language": "python",
   "name": "python3"
  },
  "language_info": {
   "codemirror_mode": {
    "name": "ipython",
    "version": 3
   },
   "file_extension": ".py",
   "mimetype": "text/x-python",
   "name": "python",
   "nbconvert_exporter": "python",
   "pygments_lexer": "ipython3",
   "version": "3.12.7"
  }
 },
 "nbformat": 4,
 "nbformat_minor": 5
}
