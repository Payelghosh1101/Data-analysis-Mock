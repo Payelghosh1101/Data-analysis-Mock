{
 "cells": [
  {
   "cell_type": "markdown",
   "id": "14273ead",
   "metadata": {},
   "source": [
    "#                                                           Multilingual Mobile App Reviews Dataset Analysis"
   ]
  },
  {
   "cell_type": "markdown",
   "id": "8d749072",
   "metadata": {},
   "source": [
    "# column description"
   ]
  },
  {
   "cell_type": "markdown",
   "id": "2a7c55fa",
   "metadata": {},
   "source": [
    "review_id → Unique identifier for each review.\n",
    "\n",
    "user_id → Unique identifier for the user who wrote the review.\n",
    "\n",
    "app_name → Name of the mobile application being reviewed.\n",
    "\n",
    "app_category → Category/genre of the app (e.g., Games, Finance, Health).\n",
    "\n",
    "review_text → Written text of the user’s review.\n",
    "\n",
    "review_language → Language in which the review is written.\n",
    "\n",
    "rating → Star rating or numeric score given by the user.\n",
    "\n",
    "review_date → Date when the review was submitted.\n",
    "\n",
    "verified_purchase → Whether the review is from a verified purchase (Yes/No).\n",
    "\n",
    "device_type → Type of device used (e.g., Android, iOS, Tablet).\n",
    "\n",
    "num_helpful_votes → Number of people who found the review helpful.\n",
    "\n",
    "user_age → Age of the user writing the review.\n",
    "\n",
    "user_country → Country of the user.\n",
    "\n",
    "user_gender → Gender of the user.\n",
    "\n",
    "app_version → Version of the app being reviewed."
   ]
  },
  {
   "cell_type": "markdown",
   "id": "be6d14ac",
   "metadata": {},
   "source": [
    "# make observation\n",
    "\n",
    "\n",
    "\n",
    "1. Which factors do you think most strongly influence the rating of an app? Why?\n",
    "2. How might review_language affect the interpretation of user satisfaction?\n",
    "3. Explain how app_version and review_date together can show app improvement or decline.\n",
    "4. Do you think verified_purchase makes reviews more trustworthy? Justify your answer.\n",
    "5. How would you test whether device_type has an impact on app ratings?\n",
    "6. If you had to find which age group is most satisfied, what steps would you follow?\n",
    "7. How would you identify fake or unreliable reviews using num_helpful_votes and review_text?"
   ]
  },
  {
   "cell_type": "markdown",
   "id": "1c365639",
   "metadata": {},
   "source": [
    "# coclusion:\n",
    "\n",
    "The target is to find out what factors (language, gender, age, purchase status, category, version, device, etc.) most influence user ratings and satisfaction"
   ]
  },
  {
   "cell_type": "markdown",
   "id": "bcabbdf2",
   "metadata": {},
   "source": [
    "1. Suppose you are an app developer: what insights from this dataset would help you improve\n",
    "your app?\n",
    "2. Propose one machine learning project idea using this dataset and describe its expected\n",
    "outcome"
   ]
  },
  {
   "cell_type": "markdown",
   "id": "c64cd41c",
   "metadata": {},
   "source": [
    "# language reference\n",
    "\n",
    "\n",
    "\n",
    "| Code   | Language           |\n",
    "| ------ | ------------------ |\n",
    "| **no** | Norwegian          |\n",
    "| **ru** | Russian            |\n",
    "| **es** | Spanish            |\n",
    "| **vi** | Vietnamese         |\n",
    "| **tl** | Tagalog (Filipino) |\n",
    "| **th** | Thai               |\n",
    "| **da** | Danish             |\n",
    "| **ja** | Japanese           |\n",
    "| **ms** | Malay              |\n",
    "| **fr** | French             |\n",
    "| **it** | Italian            |\n",
    "| **nl** | Dutch              |\n",
    "| **hi** | Hindi              |\n",
    "| **ar** | Arabic             |\n",
    "| **zh** | Chinese            |\n",
    "| **id** | Indonesian         |\n",
    "| **pl** | Polish             |\n",
    "| **ko** | Korean             |\n",
    "| **sv** | Swedish            |\n",
    "| **pt** | Portuguese         |\n",
    "| **tr** | Turkish            |\n",
    "| **fi** | Finnish            |\n",
    "| **de** | German             |\n",
    "| **en** | English            |\n"
   ]
  },
  {
   "cell_type": "code",
   "execution_count": 136,
   "id": "b5debd4e",
   "metadata": {},
   "outputs": [],
   "source": []
  },
  {
   "cell_type": "markdown",
   "id": "a273aa64",
   "metadata": {},
   "source": [
    "## Import Libraries"
   ]
  },
  {
   "cell_type": "code",
   "execution_count": 116,
   "id": "dfe5c35d",
   "metadata": {},
   "outputs": [],
   "source": [
    "import pandas as pd\n",
    "import seaborn as sns\n",
    "import matplotlib.pyplot as plt"
   ]
  },
  {
   "cell_type": "code",
   "execution_count": 117,
   "id": "12c71f6b",
   "metadata": {},
   "outputs": [],
   "source": [
    "df=pd.read_csv('multilingual_mobile_app_reviews_2025.csv')"
   ]
  },
  {
   "cell_type": "code",
   "execution_count": 118,
   "id": "7200d185",
   "metadata": {},
   "outputs": [
    {
     "data": {
      "text/html": [
       "<div>\n",
       "<style scoped>\n",
       "    .dataframe tbody tr th:only-of-type {\n",
       "        vertical-align: middle;\n",
       "    }\n",
       "\n",
       "    .dataframe tbody tr th {\n",
       "        vertical-align: top;\n",
       "    }\n",
       "\n",
       "    .dataframe thead th {\n",
       "        text-align: right;\n",
       "    }\n",
       "</style>\n",
       "<table border=\"1\" class=\"dataframe\">\n",
       "  <thead>\n",
       "    <tr style=\"text-align: right;\">\n",
       "      <th></th>\n",
       "      <th>review_id</th>\n",
       "      <th>user_id</th>\n",
       "      <th>app_name</th>\n",
       "      <th>app_category</th>\n",
       "      <th>review_text</th>\n",
       "      <th>review_language</th>\n",
       "      <th>rating</th>\n",
       "      <th>review_date</th>\n",
       "      <th>verified_purchase</th>\n",
       "      <th>device_type</th>\n",
       "      <th>num_helpful_votes</th>\n",
       "      <th>user_age</th>\n",
       "      <th>user_country</th>\n",
       "      <th>user_gender</th>\n",
       "      <th>app_version</th>\n",
       "    </tr>\n",
       "  </thead>\n",
       "  <tbody>\n",
       "    <tr>\n",
       "      <th>0</th>\n",
       "      <td>1</td>\n",
       "      <td>1967825</td>\n",
       "      <td>MX Player</td>\n",
       "      <td>Travel &amp; Local</td>\n",
       "      <td>Qui doloribus consequuntur. Perspiciatis tempo...</td>\n",
       "      <td>no</td>\n",
       "      <td>1.3</td>\n",
       "      <td>2024-10-09 19:26:40</td>\n",
       "      <td>True</td>\n",
       "      <td>Android Tablet</td>\n",
       "      <td>65</td>\n",
       "      <td>14.0</td>\n",
       "      <td>China</td>\n",
       "      <td>Female</td>\n",
       "      <td>1.4</td>\n",
       "    </tr>\n",
       "    <tr>\n",
       "      <th>1</th>\n",
       "      <td>2</td>\n",
       "      <td>9242600</td>\n",
       "      <td>Tinder</td>\n",
       "      <td>Navigation</td>\n",
       "      <td>Great app but too many ads, consider premium v...</td>\n",
       "      <td>ru</td>\n",
       "      <td>1.6</td>\n",
       "      <td>2024-06-21 17:29:40</td>\n",
       "      <td>True</td>\n",
       "      <td>iPad</td>\n",
       "      <td>209</td>\n",
       "      <td>18.0</td>\n",
       "      <td>Germany</td>\n",
       "      <td>Male</td>\n",
       "      <td>8.9</td>\n",
       "    </tr>\n",
       "    <tr>\n",
       "      <th>2</th>\n",
       "      <td>3</td>\n",
       "      <td>7636477</td>\n",
       "      <td>Netflix</td>\n",
       "      <td>Dating</td>\n",
       "      <td>The interface could be better but overall good...</td>\n",
       "      <td>es</td>\n",
       "      <td>3.6</td>\n",
       "      <td>2024-10-31 13:47:12</td>\n",
       "      <td>True</td>\n",
       "      <td>iPad</td>\n",
       "      <td>163</td>\n",
       "      <td>67.0</td>\n",
       "      <td>Nigeria</td>\n",
       "      <td>Male</td>\n",
       "      <td>2.8.37.5926</td>\n",
       "    </tr>\n",
       "    <tr>\n",
       "      <th>3</th>\n",
       "      <td>4</td>\n",
       "      <td>209031</td>\n",
       "      <td>Venmo</td>\n",
       "      <td>Productivity</td>\n",
       "      <td>Latest update broke some features, please fix ...</td>\n",
       "      <td>vi</td>\n",
       "      <td>3.8</td>\n",
       "      <td>2025-03-12 06:16:22</td>\n",
       "      <td>True</td>\n",
       "      <td>iOS</td>\n",
       "      <td>664</td>\n",
       "      <td>66.0</td>\n",
       "      <td>India</td>\n",
       "      <td>Female</td>\n",
       "      <td>10.2</td>\n",
       "    </tr>\n",
       "    <tr>\n",
       "      <th>4</th>\n",
       "      <td>5</td>\n",
       "      <td>7190293</td>\n",
       "      <td>Google Drive</td>\n",
       "      <td>Education</td>\n",
       "      <td>Perfect for daily use, highly recommend to eve...</td>\n",
       "      <td>tl</td>\n",
       "      <td>3.2</td>\n",
       "      <td>2024-04-21 03:48:27</td>\n",
       "      <td>True</td>\n",
       "      <td>iPad</td>\n",
       "      <td>1197</td>\n",
       "      <td>40.0</td>\n",
       "      <td>South Korea</td>\n",
       "      <td>Prefer not to say</td>\n",
       "      <td>4.7</td>\n",
       "    </tr>\n",
       "  </tbody>\n",
       "</table>\n",
       "</div>"
      ],
      "text/plain": [
       "   review_id  user_id      app_name    app_category  \\\n",
       "0          1  1967825     MX Player  Travel & Local   \n",
       "1          2  9242600        Tinder      Navigation   \n",
       "2          3  7636477       Netflix          Dating   \n",
       "3          4   209031         Venmo    Productivity   \n",
       "4          5  7190293  Google Drive       Education   \n",
       "\n",
       "                                         review_text review_language  rating  \\\n",
       "0  Qui doloribus consequuntur. Perspiciatis tempo...              no     1.3   \n",
       "1  Great app but too many ads, consider premium v...              ru     1.6   \n",
       "2  The interface could be better but overall good...              es     3.6   \n",
       "3  Latest update broke some features, please fix ...              vi     3.8   \n",
       "4  Perfect for daily use, highly recommend to eve...              tl     3.2   \n",
       "\n",
       "           review_date  verified_purchase     device_type  num_helpful_votes  \\\n",
       "0  2024-10-09 19:26:40               True  Android Tablet                 65   \n",
       "1  2024-06-21 17:29:40               True            iPad                209   \n",
       "2  2024-10-31 13:47:12               True            iPad                163   \n",
       "3  2025-03-12 06:16:22               True             iOS                664   \n",
       "4  2024-04-21 03:48:27               True            iPad               1197   \n",
       "\n",
       "   user_age user_country        user_gender  app_version  \n",
       "0      14.0        China             Female          1.4  \n",
       "1      18.0      Germany               Male          8.9  \n",
       "2      67.0      Nigeria               Male  2.8.37.5926  \n",
       "3      66.0        India             Female         10.2  \n",
       "4      40.0  South Korea  Prefer not to say          4.7  "
      ]
     },
     "execution_count": 118,
     "metadata": {},
     "output_type": "execute_result"
    }
   ],
   "source": [
    "df.head()"
   ]
  },
  {
   "cell_type": "code",
   "execution_count": 119,
   "id": "4c632fe0",
   "metadata": {},
   "outputs": [
    {
     "data": {
      "text/html": [
       "<div>\n",
       "<style scoped>\n",
       "    .dataframe tbody tr th:only-of-type {\n",
       "        vertical-align: middle;\n",
       "    }\n",
       "\n",
       "    .dataframe tbody tr th {\n",
       "        vertical-align: top;\n",
       "    }\n",
       "\n",
       "    .dataframe thead th {\n",
       "        text-align: right;\n",
       "    }\n",
       "</style>\n",
       "<table border=\"1\" class=\"dataframe\">\n",
       "  <thead>\n",
       "    <tr style=\"text-align: right;\">\n",
       "      <th></th>\n",
       "      <th>review_id</th>\n",
       "      <th>user_id</th>\n",
       "      <th>app_name</th>\n",
       "      <th>app_category</th>\n",
       "      <th>review_text</th>\n",
       "      <th>review_language</th>\n",
       "      <th>rating</th>\n",
       "      <th>review_date</th>\n",
       "      <th>verified_purchase</th>\n",
       "      <th>device_type</th>\n",
       "      <th>num_helpful_votes</th>\n",
       "      <th>user_age</th>\n",
       "      <th>user_country</th>\n",
       "      <th>user_gender</th>\n",
       "      <th>app_version</th>\n",
       "    </tr>\n",
       "  </thead>\n",
       "  <tbody>\n",
       "    <tr>\n",
       "      <th>2509</th>\n",
       "      <td>2510</td>\n",
       "      <td>2322118</td>\n",
       "      <td>OneDrive</td>\n",
       "      <td>Business</td>\n",
       "      <td>Счастье низкий пастух. Нож неожиданно поезд тр...</td>\n",
       "      <td>nl</td>\n",
       "      <td>3.0</td>\n",
       "      <td>2023-11-23 01:07:30</td>\n",
       "      <td>False</td>\n",
       "      <td>iOS</td>\n",
       "      <td>635</td>\n",
       "      <td>21.0</td>\n",
       "      <td>Malaysia</td>\n",
       "      <td>Non-binary</td>\n",
       "      <td>1.1.2-beta</td>\n",
       "    </tr>\n",
       "    <tr>\n",
       "      <th>2510</th>\n",
       "      <td>2511</td>\n",
       "      <td>2167693</td>\n",
       "      <td>Signal</td>\n",
       "      <td>Finance</td>\n",
       "      <td>This app is amazing! Really love the new featu...</td>\n",
       "      <td>ms</td>\n",
       "      <td>1.9</td>\n",
       "      <td>2025-06-05 16:42:20</td>\n",
       "      <td>True</td>\n",
       "      <td>Windows Phone</td>\n",
       "      <td>1127</td>\n",
       "      <td>38.0</td>\n",
       "      <td>Bangladesh</td>\n",
       "      <td>NaN</td>\n",
       "      <td>v12.0.80</td>\n",
       "    </tr>\n",
       "    <tr>\n",
       "      <th>2511</th>\n",
       "      <td>2512</td>\n",
       "      <td>5554467</td>\n",
       "      <td>OneDrive</td>\n",
       "      <td>Social Networking</td>\n",
       "      <td>This app is amazing! Really love the new featu...</td>\n",
       "      <td>zh</td>\n",
       "      <td>3.4</td>\n",
       "      <td>2024-06-15 05:02:18</td>\n",
       "      <td>True</td>\n",
       "      <td>Android Tablet</td>\n",
       "      <td>677</td>\n",
       "      <td>27.0</td>\n",
       "      <td>Pakistan</td>\n",
       "      <td>NaN</td>\n",
       "      <td>9.1.32.4821</td>\n",
       "    </tr>\n",
       "    <tr>\n",
       "      <th>2512</th>\n",
       "      <td>2513</td>\n",
       "      <td>8805125</td>\n",
       "      <td>Coursera</td>\n",
       "      <td>Social Networking</td>\n",
       "      <td>Invitare convincere pericoloso corsa fortuna. ...</td>\n",
       "      <td>da</td>\n",
       "      <td>2.7</td>\n",
       "      <td>2023-12-02 01:41:31</td>\n",
       "      <td>True</td>\n",
       "      <td>Android</td>\n",
       "      <td>155</td>\n",
       "      <td>35.0</td>\n",
       "      <td>India</td>\n",
       "      <td>NaN</td>\n",
       "      <td>v8.9.13</td>\n",
       "    </tr>\n",
       "    <tr>\n",
       "      <th>2513</th>\n",
       "      <td>2514</td>\n",
       "      <td>1099793</td>\n",
       "      <td>Venmo</td>\n",
       "      <td>Education</td>\n",
       "      <td>Latest update broke some features, please fix ...</td>\n",
       "      <td>it</td>\n",
       "      <td>2.1</td>\n",
       "      <td>2025-03-04 02:51:17</td>\n",
       "      <td>True</td>\n",
       "      <td>Android</td>\n",
       "      <td>1040</td>\n",
       "      <td>26.0</td>\n",
       "      <td>Bangladesh</td>\n",
       "      <td>Prefer not to say</td>\n",
       "      <td>2.2</td>\n",
       "    </tr>\n",
       "  </tbody>\n",
       "</table>\n",
       "</div>"
      ],
      "text/plain": [
       "      review_id  user_id  app_name       app_category  \\\n",
       "2509       2510  2322118  OneDrive           Business   \n",
       "2510       2511  2167693    Signal            Finance   \n",
       "2511       2512  5554467  OneDrive  Social Networking   \n",
       "2512       2513  8805125  Coursera  Social Networking   \n",
       "2513       2514  1099793     Venmo          Education   \n",
       "\n",
       "                                            review_text review_language  \\\n",
       "2509  Счастье низкий пастух. Нож неожиданно поезд тр...              nl   \n",
       "2510  This app is amazing! Really love the new featu...              ms   \n",
       "2511  This app is amazing! Really love the new featu...              zh   \n",
       "2512  Invitare convincere pericoloso corsa fortuna. ...              da   \n",
       "2513  Latest update broke some features, please fix ...              it   \n",
       "\n",
       "      rating          review_date  verified_purchase     device_type  \\\n",
       "2509     3.0  2023-11-23 01:07:30              False             iOS   \n",
       "2510     1.9  2025-06-05 16:42:20               True   Windows Phone   \n",
       "2511     3.4  2024-06-15 05:02:18               True  Android Tablet   \n",
       "2512     2.7  2023-12-02 01:41:31               True         Android   \n",
       "2513     2.1  2025-03-04 02:51:17               True         Android   \n",
       "\n",
       "      num_helpful_votes  user_age user_country        user_gender  app_version  \n",
       "2509                635      21.0     Malaysia         Non-binary   1.1.2-beta  \n",
       "2510               1127      38.0   Bangladesh                NaN     v12.0.80  \n",
       "2511                677      27.0     Pakistan                NaN  9.1.32.4821  \n",
       "2512                155      35.0        India                NaN      v8.9.13  \n",
       "2513               1040      26.0   Bangladesh  Prefer not to say          2.2  "
      ]
     },
     "execution_count": 119,
     "metadata": {},
     "output_type": "execute_result"
    }
   ],
   "source": [
    "df.tail()"
   ]
  },
  {
   "cell_type": "markdown",
   "id": "7b6aa295",
   "metadata": {},
   "source": [
    "## Understanding the data"
   ]
  },
  {
   "cell_type": "code",
   "execution_count": 120,
   "id": "c3d52831",
   "metadata": {},
   "outputs": [
    {
     "name": "stdout",
     "output_type": "stream",
     "text": [
      "<class 'pandas.core.frame.DataFrame'>\n",
      "RangeIndex: 2514 entries, 0 to 2513\n",
      "Data columns (total 15 columns):\n",
      " #   Column             Non-Null Count  Dtype  \n",
      "---  ------             --------------  -----  \n",
      " 0   review_id          2514 non-null   int64  \n",
      " 1   user_id            2514 non-null   int64  \n",
      " 2   app_name           2514 non-null   object \n",
      " 3   app_category       2514 non-null   object \n",
      " 4   review_text        2455 non-null   object \n",
      " 5   review_language    2514 non-null   object \n",
      " 6   rating             2477 non-null   float64\n",
      " 7   review_date        2514 non-null   object \n",
      " 8   verified_purchase  2514 non-null   bool   \n",
      " 9   device_type        2514 non-null   object \n",
      " 10  num_helpful_votes  2514 non-null   int64  \n",
      " 11  user_age           2514 non-null   float64\n",
      " 12  user_country       2473 non-null   object \n",
      " 13  user_gender        1927 non-null   object \n",
      " 14  app_version        2484 non-null   object \n",
      "dtypes: bool(1), float64(2), int64(3), object(9)\n",
      "memory usage: 277.6+ KB\n"
     ]
    }
   ],
   "source": [
    "df.info()"
   ]
  },
  {
   "cell_type": "code",
   "execution_count": 121,
   "id": "01f6c81b",
   "metadata": {},
   "outputs": [
    {
     "data": {
      "text/plain": [
       "Index(['review_id', 'user_id', 'app_name', 'app_category', 'review_text',\n",
       "       'review_language', 'rating', 'review_date', 'verified_purchase',\n",
       "       'device_type', 'num_helpful_votes', 'user_age', 'user_country',\n",
       "       'user_gender', 'app_version'],\n",
       "      dtype='object')"
      ]
     },
     "execution_count": 121,
     "metadata": {},
     "output_type": "execute_result"
    }
   ],
   "source": [
    "df.columns"
   ]
  },
  {
   "cell_type": "markdown",
   "id": "2ab77f1e",
   "metadata": {},
   "source": [
    "## Data Cleaning"
   ]
  },
  {
   "cell_type": "code",
   "execution_count": 122,
   "id": "abd018b0",
   "metadata": {},
   "outputs": [
    {
     "data": {
      "text/plain": [
       "False"
      ]
     },
     "execution_count": 122,
     "metadata": {},
     "output_type": "execute_result"
    }
   ],
   "source": [
    "df.duplicated().any()"
   ]
  },
  {
   "cell_type": "code",
   "execution_count": 123,
   "id": "8b7f0383",
   "metadata": {},
   "outputs": [
    {
     "data": {
      "text/plain": [
       "review_id              0\n",
       "user_id                0\n",
       "app_name               0\n",
       "app_category           0\n",
       "review_text           59\n",
       "review_language        0\n",
       "rating                37\n",
       "review_date            0\n",
       "verified_purchase      0\n",
       "device_type            0\n",
       "num_helpful_votes      0\n",
       "user_age               0\n",
       "user_country          41\n",
       "user_gender          587\n",
       "app_version           30\n",
       "dtype: int64"
      ]
     },
     "execution_count": 123,
     "metadata": {},
     "output_type": "execute_result"
    }
   ],
   "source": [
    "df.isnull().sum()"
   ]
  },
  {
   "cell_type": "code",
   "execution_count": 124,
   "id": "cb82823d",
   "metadata": {},
   "outputs": [
    {
     "data": {
      "text/plain": [
       "array(['Female', 'Male', 'Prefer not to say', 'Non-binary', nan],\n",
       "      dtype=object)"
      ]
     },
     "execution_count": 124,
     "metadata": {},
     "output_type": "execute_result"
    }
   ],
   "source": [
    "df['user_gender'].unique()"
   ]
  },
  {
   "cell_type": "code",
   "execution_count": 125,
   "id": "c5708f7c",
   "metadata": {},
   "outputs": [
    {
     "data": {
      "text/plain": [
       "<Axes: xlabel='rating'>"
      ]
     },
     "execution_count": 125,
     "metadata": {},
     "output_type": "execute_result"
    },
    {
     "data": {
      "image/png": "[encoded data removed]",
      "text/plain": [
       "<Figure size 640x480 with 1 Axes>"
      ]
     },
     "metadata": {},
     "output_type": "display_data"
    }
   ],
   "source": [
    "sns.boxplot(df,x='rating')"
   ]
  },
  {
   "cell_type": "code",
   "execution_count": 126,
   "id": "8e3456cf",
   "metadata": {},
   "outputs": [],
   "source": [
    "df['rating']=df['rating'].fillna(df['rating'].mean())"
   ]
  },
  {
   "cell_type": "code",
   "execution_count": 127,
   "id": "42dad9db",
   "metadata": {},
   "outputs": [],
   "source": [
    "for i in ['review_text','user_gender','user_country']:\n",
    "    df[i]=df[i].fillna(df[i].mode()[0])"
   ]
  },
  {
   "cell_type": "code",
   "execution_count": 128,
   "id": "f47aeb33",
   "metadata": {},
   "outputs": [],
   "source": [
    "df['user_gender']=df['user_gender'].replace({'Non-binary':'Unknown'})"
   ]
  },
  {
   "cell_type": "code",
   "execution_count": 129,
   "id": "64a0a54a",
   "metadata": {},
   "outputs": [
    {
     "data": {
      "text/plain": [
       "array(['Female', 'Male', 'Prefer not to say', 'Unknown'], dtype=object)"
      ]
     },
     "execution_count": 129,
     "metadata": {},
     "output_type": "execute_result"
    }
   ],
   "source": [
    "df['user_gender'].unique()"
   ]
  },
  {
   "cell_type": "code",
   "execution_count": 130,
   "id": "a50111d9",
   "metadata": {},
   "outputs": [],
   "source": [
    "df=df.dropna(axis=0)"
   ]
  },
  {
   "cell_type": "code",
   "execution_count": 131,
   "id": "f9c112f5",
   "metadata": {},
   "outputs": [
    {
     "name": "stdout",
     "output_type": "stream",
     "text": [
      "<class 'pandas.core.frame.DataFrame'>\n",
      "Index: 2484 entries, 0 to 2513\n",
      "Data columns (total 15 columns):\n",
      " #   Column             Non-Null Count  Dtype  \n",
      "---  ------             --------------  -----  \n",
      " 0   review_id          2484 non-null   int64  \n",
      " 1   user_id            2484 non-null   int64  \n",
      " 2   app_name           2484 non-null   object \n",
      " 3   app_category       2484 non-null   object \n",
      " 4   review_text        2484 non-null   object \n",
      " 5   review_language    2484 non-null   object \n",
      " 6   rating             2484 non-null   float64\n",
      " 7   review_date        2484 non-null   object \n",
      " 8   verified_purchase  2484 non-null   bool   \n",
      " 9   device_type        2484 non-null   object \n",
      " 10  num_helpful_votes  2484 non-null   int64  \n",
      " 11  user_age           2484 non-null   float64\n",
      " 12  user_country       2484 non-null   object \n",
      " 13  user_gender        2484 non-null   object \n",
      " 14  app_version        2484 non-null   object \n",
      "dtypes: bool(1), float64(2), int64(3), object(9)\n",
      "memory usage: 293.5+ KB\n"
     ]
    }
   ],
   "source": [
    "df.info()"
   ]
  },
  {
   "cell_type": "code",
   "execution_count": 132,
   "id": "bdbf5476",
   "metadata": {},
   "outputs": [
    {
     "data": {
      "text/html": [
       "<div>\n",
       "<style scoped>\n",
       "    .dataframe tbody tr th:only-of-type {\n",
       "        vertical-align: middle;\n",
       "    }\n",
       "\n",
       "    .dataframe tbody tr th {\n",
       "        vertical-align: top;\n",
       "    }\n",
       "\n",
       "    .dataframe thead th {\n",
       "        text-align: right;\n",
       "    }\n",
       "</style>\n",
       "<table border=\"1\" class=\"dataframe\">\n",
       "  <thead>\n",
       "    <tr style=\"text-align: right;\">\n",
       "      <th></th>\n",
       "      <th>review_id</th>\n",
       "      <th>user_id</th>\n",
       "      <th>app_name</th>\n",
       "      <th>app_category</th>\n",
       "      <th>review_text</th>\n",
       "      <th>review_language</th>\n",
       "      <th>rating</th>\n",
       "      <th>review_date</th>\n",
       "      <th>verified_purchase</th>\n",
       "      <th>device_type</th>\n",
       "      <th>num_helpful_votes</th>\n",
       "      <th>user_age</th>\n",
       "      <th>user_country</th>\n",
       "      <th>user_gender</th>\n",
       "      <th>app_version</th>\n",
       "    </tr>\n",
       "  </thead>\n",
       "  <tbody>\n",
       "    <tr>\n",
       "      <th>0</th>\n",
       "      <td>1</td>\n",
       "      <td>1967825</td>\n",
       "      <td>MX Player</td>\n",
       "      <td>Travel &amp; Local</td>\n",
       "      <td>Qui doloribus consequuntur. Perspiciatis tempo...</td>\n",
       "      <td>no</td>\n",
       "      <td>1.3</td>\n",
       "      <td>2024-10-09 19:26:40</td>\n",
       "      <td>True</td>\n",
       "      <td>Android Tablet</td>\n",
       "      <td>65</td>\n",
       "      <td>14.0</td>\n",
       "      <td>China</td>\n",
       "      <td>Female</td>\n",
       "      <td>1.4</td>\n",
       "    </tr>\n",
       "    <tr>\n",
       "      <th>1</th>\n",
       "      <td>2</td>\n",
       "      <td>9242600</td>\n",
       "      <td>Tinder</td>\n",
       "      <td>Navigation</td>\n",
       "      <td>Great app but too many ads, consider premium v...</td>\n",
       "      <td>ru</td>\n",
       "      <td>1.6</td>\n",
       "      <td>2024-06-21 17:29:40</td>\n",
       "      <td>True</td>\n",
       "      <td>iPad</td>\n",
       "      <td>209</td>\n",
       "      <td>18.0</td>\n",
       "      <td>Germany</td>\n",
       "      <td>Male</td>\n",
       "      <td>8.9</td>\n",
       "    </tr>\n",
       "    <tr>\n",
       "      <th>2</th>\n",
       "      <td>3</td>\n",
       "      <td>7636477</td>\n",
       "      <td>Netflix</td>\n",
       "      <td>Dating</td>\n",
       "      <td>The interface could be better but overall good...</td>\n",
       "      <td>es</td>\n",
       "      <td>3.6</td>\n",
       "      <td>2024-10-31 13:47:12</td>\n",
       "      <td>True</td>\n",
       "      <td>iPad</td>\n",
       "      <td>163</td>\n",
       "      <td>67.0</td>\n",
       "      <td>Nigeria</td>\n",
       "      <td>Male</td>\n",
       "      <td>2.8.37.5926</td>\n",
       "    </tr>\n",
       "    <tr>\n",
       "      <th>3</th>\n",
       "      <td>4</td>\n",
       "      <td>209031</td>\n",
       "      <td>Venmo</td>\n",
       "      <td>Productivity</td>\n",
       "      <td>Latest update broke some features, please fix ...</td>\n",
       "      <td>vi</td>\n",
       "      <td>3.8</td>\n",
       "      <td>2025-03-12 06:16:22</td>\n",
       "      <td>True</td>\n",
       "      <td>iOS</td>\n",
       "      <td>664</td>\n",
       "      <td>66.0</td>\n",
       "      <td>India</td>\n",
       "      <td>Female</td>\n",
       "      <td>10.2</td>\n",
       "    </tr>\n",
       "    <tr>\n",
       "      <th>4</th>\n",
       "      <td>5</td>\n",
       "      <td>7190293</td>\n",
       "      <td>Google Drive</td>\n",
       "      <td>Education</td>\n",
       "      <td>Perfect for daily use, highly recommend to eve...</td>\n",
       "      <td>tl</td>\n",
       "      <td>3.2</td>\n",
       "      <td>2024-04-21 03:48:27</td>\n",
       "      <td>True</td>\n",
       "      <td>iPad</td>\n",
       "      <td>1197</td>\n",
       "      <td>40.0</td>\n",
       "      <td>South Korea</td>\n",
       "      <td>Prefer not to say</td>\n",
       "      <td>4.7</td>\n",
       "    </tr>\n",
       "  </tbody>\n",
       "</table>\n",
       "</div>"
      ],
      "text/plain": [
       "   review_id  user_id      app_name    app_category  \\\n",
       "0          1  1967825     MX Player  Travel & Local   \n",
       "1          2  9242600        Tinder      Navigation   \n",
       "2          3  7636477       Netflix          Dating   \n",
       "3          4   209031         Venmo    Productivity   \n",
       "4          5  7190293  Google Drive       Education   \n",
       "\n",
       "                                         review_text review_language  rating  \\\n",
       "0  Qui doloribus consequuntur. Perspiciatis tempo...              no     1.3   \n",
       "1  Great app but too many ads, consider premium v...              ru     1.6   \n",
       "2  The interface could be better but overall good...              es     3.6   \n",
       "3  Latest update broke some features, please fix ...              vi     3.8   \n",
       "4  Perfect for daily use, highly recommend to eve...              tl     3.2   \n",
       "\n",
       "           review_date  verified_purchase     device_type  num_helpful_votes  \\\n",
       "0  2024-10-09 19:26:40               True  Android Tablet                 65   \n",
       "1  2024-06-21 17:29:40               True            iPad                209   \n",
       "2  2024-10-31 13:47:12               True            iPad                163   \n",
       "3  2025-03-12 06:16:22               True             iOS                664   \n",
       "4  2024-04-21 03:48:27               True            iPad               1197   \n",
       "\n",
       "   user_age user_country        user_gender  app_version  \n",
       "0      14.0        China             Female          1.4  \n",
       "1      18.0      Germany               Male          8.9  \n",
       "2      67.0      Nigeria               Male  2.8.37.5926  \n",
       "3      66.0        India             Female         10.2  \n",
       "4      40.0  South Korea  Prefer not to say          4.7  "
      ]
     },
     "execution_count": 132,
     "metadata": {},
     "output_type": "execute_result"
    }
   ],
   "source": [
    "df.head()"
   ]
  },
  {
   "cell_type": "code",
   "execution_count": 133,
   "id": "76c478db",
   "metadata": {},
   "outputs": [],
   "source": [
    "df['review_date']=pd.to_datetime(df['review_date'])"
   ]
  },
  {
   "cell_type": "code",
   "execution_count": 134,
   "id": "2be90692",
   "metadata": {},
   "outputs": [
    {
     "name": "stdout",
     "output_type": "stream",
     "text": [
      "<class 'pandas.core.frame.DataFrame'>\n",
      "Index: 2484 entries, 0 to 2513\n",
      "Data columns (total 15 columns):\n",
      " #   Column             Non-Null Count  Dtype         \n",
      "---  ------             --------------  -----         \n",
      " 0   review_id          2484 non-null   int64         \n",
      " 1   user_id            2484 non-null   int64         \n",
      " 2   app_name           2484 non-null   object        \n",
      " 3   app_category       2484 non-null   object        \n",
      " 4   review_text        2484 non-null   object        \n",
      " 5   review_language    2484 non-null   object        \n",
      " 6   rating             2484 non-null   float64       \n",
      " 7   review_date        2484 non-null   datetime64[ns]\n",
      " 8   verified_purchase  2484 non-null   bool          \n",
      " 9   device_type        2484 non-null   object        \n",
      " 10  num_helpful_votes  2484 non-null   int64         \n",
      " 11  user_age           2484 non-null   float64       \n",
      " 12  user_country       2484 non-null   object        \n",
      " 13  user_gender        2484 non-null   object        \n",
      " 14  app_version        2484 non-null   object        \n",
      "dtypes: bool(1), datetime64[ns](1), float64(2), int64(3), object(8)\n",
      "memory usage: 293.5+ KB\n"
     ]
    }
   ],
   "source": [
    "df.info()"
   ]
  },
  {
   "cell_type": "code",
   "execution_count": 135,
   "id": "cf6307a0",
   "metadata": {},
   "outputs": [
    {
     "data": {
      "text/plain": [
       "array([14., 18., 67., 66., 40., 75., 68., 55., 45., 56., 16., 29., 58.,\n",
       "       48., 23., 54., 37., 41., 28., 53., 26., 30., 24., 73., 33., 59.,\n",
       "       34., 46., 15., 70., 71., 44., 21., 13., 35., 27., 22., 49., 60.,\n",
       "       17., 62., 51., 69., 74., 64., 19., 42., 43., 52., 36., 47., 38.,\n",
       "       32., 72., 50., 31., 20., 25., 65., 63., 39., 57., 61.])"
      ]
     },
     "execution_count": 135,
     "metadata": {},
     "output_type": "execute_result"
    }
   ],
   "source": [
    "df['user_age'].unique()"
   ]
  },
  {
   "cell_type": "code",
   "execution_count": 136,
   "id": "c0c9cd2f",
   "metadata": {},
   "outputs": [],
   "source": [
    "df['age Category']=pd.cut(df['user_age'],bins=[0,10,18,60,80],labels=['baby','teen','adult','senior'])\n",
    "\n"
   ]
  },
  {
   "cell_type": "code",
   "execution_count": 137,
   "id": "104a97bd",
   "metadata": {},
   "outputs": [
    {
     "data": {
      "text/html": [
       "<div>\n",
       "<style scoped>\n",
       "    .dataframe tbody tr th:only-of-type {\n",
       "        vertical-align: middle;\n",
       "    }\n",
       "\n",
       "    .dataframe tbody tr th {\n",
       "        vertical-align: top;\n",
       "    }\n",
       "\n",
       "    .dataframe thead th {\n",
       "        text-align: right;\n",
       "    }\n",
       "</style>\n",
       "<table border=\"1\" class=\"dataframe\">\n",
       "  <thead>\n",
       "    <tr style=\"text-align: right;\">\n",
       "      <th></th>\n",
       "      <th>review_id</th>\n",
       "      <th>user_id</th>\n",
       "      <th>app_name</th>\n",
       "      <th>app_category</th>\n",
       "      <th>review_text</th>\n",
       "      <th>review_language</th>\n",
       "      <th>rating</th>\n",
       "      <th>review_date</th>\n",
       "      <th>verified_purchase</th>\n",
       "      <th>device_type</th>\n",
       "      <th>num_helpful_votes</th>\n",
       "      <th>user_age</th>\n",
       "      <th>user_country</th>\n",
       "      <th>user_gender</th>\n",
       "      <th>app_version</th>\n",
       "      <th>age Category</th>\n",
       "    </tr>\n",
       "  </thead>\n",
       "  <tbody>\n",
       "    <tr>\n",
       "      <th>0</th>\n",
       "      <td>1</td>\n",
       "      <td>1967825</td>\n",
       "      <td>MX Player</td>\n",
       "      <td>Travel &amp; Local</td>\n",
       "      <td>Qui doloribus consequuntur. Perspiciatis tempo...</td>\n",
       "      <td>no</td>\n",
       "      <td>1.3</td>\n",
       "      <td>2024-10-09 19:26:40</td>\n",
       "      <td>True</td>\n",
       "      <td>Android Tablet</td>\n",
       "      <td>65</td>\n",
       "      <td>14.0</td>\n",
       "      <td>China</td>\n",
       "      <td>Female</td>\n",
       "      <td>1.4</td>\n",
       "      <td>teen</td>\n",
       "    </tr>\n",
       "    <tr>\n",
       "      <th>1</th>\n",
       "      <td>2</td>\n",
       "      <td>9242600</td>\n",
       "      <td>Tinder</td>\n",
       "      <td>Navigation</td>\n",
       "      <td>Great app but too many ads, consider premium v...</td>\n",
       "      <td>ru</td>\n",
       "      <td>1.6</td>\n",
       "      <td>2024-06-21 17:29:40</td>\n",
       "      <td>True</td>\n",
       "      <td>iPad</td>\n",
       "      <td>209</td>\n",
       "      <td>18.0</td>\n",
       "      <td>Germany</td>\n",
       "      <td>Male</td>\n",
       "      <td>8.9</td>\n",
       "      <td>teen</td>\n",
       "    </tr>\n",
       "    <tr>\n",
       "      <th>2</th>\n",
       "      <td>3</td>\n",
       "      <td>7636477</td>\n",
       "      <td>Netflix</td>\n",
       "      <td>Dating</td>\n",
       "      <td>The interface could be better but overall good...</td>\n",
       "      <td>es</td>\n",
       "      <td>3.6</td>\n",
       "      <td>2024-10-31 13:47:12</td>\n",
       "      <td>True</td>\n",
       "      <td>iPad</td>\n",
       "      <td>163</td>\n",
       "      <td>67.0</td>\n",
       "      <td>Nigeria</td>\n",
       "      <td>Male</td>\n",
       "      <td>2.8.37.5926</td>\n",
       "      <td>senior</td>\n",
       "    </tr>\n",
       "    <tr>\n",
       "      <th>3</th>\n",
       "      <td>4</td>\n",
       "      <td>209031</td>\n",
       "      <td>Venmo</td>\n",
       "      <td>Productivity</td>\n",
       "      <td>Latest update broke some features, please fix ...</td>\n",
       "      <td>vi</td>\n",
       "      <td>3.8</td>\n",
       "      <td>2025-03-12 06:16:22</td>\n",
       "      <td>True</td>\n",
       "      <td>iOS</td>\n",
       "      <td>664</td>\n",
       "      <td>66.0</td>\n",
       "      <td>India</td>\n",
       "      <td>Female</td>\n",
       "      <td>10.2</td>\n",
       "      <td>senior</td>\n",
       "    </tr>\n",
       "    <tr>\n",
       "      <th>4</th>\n",
       "      <td>5</td>\n",
       "      <td>7190293</td>\n",
       "      <td>Google Drive</td>\n",
       "      <td>Education</td>\n",
       "      <td>Perfect for daily use, highly recommend to eve...</td>\n",
       "      <td>tl</td>\n",
       "      <td>3.2</td>\n",
       "      <td>2024-04-21 03:48:27</td>\n",
       "      <td>True</td>\n",
       "      <td>iPad</td>\n",
       "      <td>1197</td>\n",
       "      <td>40.0</td>\n",
       "      <td>South Korea</td>\n",
       "      <td>Prefer not to say</td>\n",
       "      <td>4.7</td>\n",
       "      <td>adult</td>\n",
       "    </tr>\n",
       "  </tbody>\n",
       "</table>\n",
       "</div>"
      ],
      "text/plain": [
       "   review_id  user_id      app_name    app_category  \\\n",
       "0          1  1967825     MX Player  Travel & Local   \n",
       "1          2  9242600        Tinder      Navigation   \n",
       "2          3  7636477       Netflix          Dating   \n",
       "3          4   209031         Venmo    Productivity   \n",
       "4          5  7190293  Google Drive       Education   \n",
       "\n",
       "                                         review_text review_language  rating  \\\n",
       "0  Qui doloribus consequuntur. Perspiciatis tempo...              no     1.3   \n",
       "1  Great app but too many ads, consider premium v...              ru     1.6   \n",
       "2  The interface could be better but overall good...              es     3.6   \n",
       "3  Latest update broke some features, please fix ...              vi     3.8   \n",
       "4  Perfect for daily use, highly recommend to eve...              tl     3.2   \n",
       "\n",
       "          review_date  verified_purchase     device_type  num_helpful_votes  \\\n",
       "0 2024-10-09 19:26:40               True  Android Tablet                 65   \n",
       "1 2024-06-21 17:29:40               True            iPad                209   \n",
       "2 2024-10-31 13:47:12               True            iPad                163   \n",
       "3 2025-03-12 06:16:22               True             iOS                664   \n",
       "4 2024-04-21 03:48:27               True            iPad               1197   \n",
       "\n",
       "   user_age user_country        user_gender  app_version age Category  \n",
       "0      14.0        China             Female          1.4         teen  \n",
       "1      18.0      Germany               Male          8.9         teen  \n",
       "2      67.0      Nigeria               Male  2.8.37.5926       senior  \n",
       "3      66.0        India             Female         10.2       senior  \n",
       "4      40.0  South Korea  Prefer not to say          4.7        adult  "
      ]
     },
     "execution_count": 137,
     "metadata": {},
     "output_type": "execute_result"
    }
   ],
   "source": [
    "df.head()"
   ]
  },
  {
   "cell_type": "code",
   "execution_count": 138,
   "id": "c8a3d036",
   "metadata": {},
   "outputs": [
    {
     "data": {
      "text/plain": [
       "array(['no', 'ru', 'es', 'vi', 'tl', 'th', 'da', 'ja', 'ms', 'fr', 'it',\n",
       "       'nl', 'hi', 'ar', 'zh', 'id', 'pl', 'ko', 'sv', 'pt', 'tr', 'fi',\n",
       "       'de', 'en'], dtype=object)"
      ]
     },
     "execution_count": 138,
     "metadata": {},
     "output_type": "execute_result"
    }
   ],
   "source": [
    "df['review_language'].unique()"
   ]
  },
  {
   "cell_type": "code",
   "execution_count": 139,
   "id": "518f16bb",
   "metadata": {},
   "outputs": [],
   "source": [
    "df['review_language']=df['review_language'].map({'no':'Norwegian','ru':'Russian','es':'Spanish','vi':'Vietnamese','tl':'Tagalog','th':'Thai','da':'Danish','ja':'Japanese',\n",
    "                                                    'ms':'Malay','fr':'French','it':'Italian','nl':'Dutch','hi':'Hindi','ar':'Arabic','zh':'Chinese','id':'Indonesian',\n",
    "                                                    'pl':'Polish','ko':'Korean','sv':'Swedish','pt':'Portuguese','tr':'Turkish','fi':'Finnish','de':'German','en':'English'})"
   ]
  },
  {
   "cell_type": "code",
   "execution_count": 140,
   "id": "32b5db67",
   "metadata": {},
   "outputs": [
    {
     "data": {
      "text/plain": [
       "0        Norwegian\n",
       "1          Russian\n",
       "2          Spanish\n",
       "3       Vietnamese\n",
       "4          Tagalog\n",
       "           ...    \n",
       "2509         Dutch\n",
       "2510         Malay\n",
       "2511       Chinese\n",
       "2512        Danish\n",
       "2513       Italian\n",
       "Name: review_language, Length: 2484, dtype: object"
      ]
     },
     "execution_count": 140,
     "metadata": {},
     "output_type": "execute_result"
    }
   ],
   "source": [
    "df['review_language'].str.strip()"
   ]
  },
  {
   "cell_type": "code",
   "execution_count": 141,
   "id": "dbe37367",
   "metadata": {},
   "outputs": [],
   "source": [
    "df['year']=df['review_date'].dt.year"
   ]
  },
  {
   "cell_type": "code",
   "execution_count": 142,
   "id": "6a2c36a8",
   "metadata": {},
   "outputs": [
    {
     "data": {
      "text/html": [
       "<div>\n",
       "<style scoped>\n",
       "    .dataframe tbody tr th:only-of-type {\n",
       "        vertical-align: middle;\n",
       "    }\n",
       "\n",
       "    .dataframe tbody tr th {\n",
       "        vertical-align: top;\n",
       "    }\n",
       "\n",
       "    .dataframe thead th {\n",
       "        text-align: right;\n",
       "    }\n",
       "</style>\n",
       "<table border=\"1\" class=\"dataframe\">\n",
       "  <thead>\n",
       "    <tr style=\"text-align: right;\">\n",
       "      <th></th>\n",
       "      <th>review_id</th>\n",
       "      <th>user_id</th>\n",
       "      <th>app_name</th>\n",
       "      <th>app_category</th>\n",
       "      <th>review_text</th>\n",
       "      <th>review_language</th>\n",
       "      <th>rating</th>\n",
       "      <th>review_date</th>\n",
       "      <th>verified_purchase</th>\n",
       "      <th>device_type</th>\n",
       "      <th>num_helpful_votes</th>\n",
       "      <th>user_age</th>\n",
       "      <th>user_country</th>\n",
       "      <th>user_gender</th>\n",
       "      <th>app_version</th>\n",
       "      <th>age Category</th>\n",
       "      <th>year</th>\n",
       "    </tr>\n",
       "  </thead>\n",
       "  <tbody>\n",
       "    <tr>\n",
       "      <th>0</th>\n",
       "      <td>1</td>\n",
       "      <td>1967825</td>\n",
       "      <td>MX Player</td>\n",
       "      <td>Travel &amp; Local</td>\n",
       "      <td>Qui doloribus consequuntur. Perspiciatis tempo...</td>\n",
       "      <td>Norwegian</td>\n",
       "      <td>1.3</td>\n",
       "      <td>2024-10-09 19:26:40</td>\n",
       "      <td>True</td>\n",
       "      <td>Android Tablet</td>\n",
       "      <td>65</td>\n",
       "      <td>14.0</td>\n",
       "      <td>China</td>\n",
       "      <td>Female</td>\n",
       "      <td>1.4</td>\n",
       "      <td>teen</td>\n",
       "      <td>2024</td>\n",
       "    </tr>\n",
       "    <tr>\n",
       "      <th>1</th>\n",
       "      <td>2</td>\n",
       "      <td>9242600</td>\n",
       "      <td>Tinder</td>\n",
       "      <td>Navigation</td>\n",
       "      <td>Great app but too many ads, consider premium v...</td>\n",
       "      <td>Russian</td>\n",
       "      <td>1.6</td>\n",
       "      <td>2024-06-21 17:29:40</td>\n",
       "      <td>True</td>\n",
       "      <td>iPad</td>\n",
       "      <td>209</td>\n",
       "      <td>18.0</td>\n",
       "      <td>Germany</td>\n",
       "      <td>Male</td>\n",
       "      <td>8.9</td>\n",
       "      <td>teen</td>\n",
       "      <td>2024</td>\n",
       "    </tr>\n",
       "    <tr>\n",
       "      <th>2</th>\n",
       "      <td>3</td>\n",
       "      <td>7636477</td>\n",
       "      <td>Netflix</td>\n",
       "      <td>Dating</td>\n",
       "      <td>The interface could be better but overall good...</td>\n",
       "      <td>Spanish</td>\n",
       "      <td>3.6</td>\n",
       "      <td>2024-10-31 13:47:12</td>\n",
       "      <td>True</td>\n",
       "      <td>iPad</td>\n",
       "      <td>163</td>\n",
       "      <td>67.0</td>\n",
       "      <td>Nigeria</td>\n",
       "      <td>Male</td>\n",
       "      <td>2.8.37.5926</td>\n",
       "      <td>senior</td>\n",
       "      <td>2024</td>\n",
       "    </tr>\n",
       "    <tr>\n",
       "      <th>3</th>\n",
       "      <td>4</td>\n",
       "      <td>209031</td>\n",
       "      <td>Venmo</td>\n",
       "      <td>Productivity</td>\n",
       "      <td>Latest update broke some features, please fix ...</td>\n",
       "      <td>Vietnamese</td>\n",
       "      <td>3.8</td>\n",
       "      <td>2025-03-12 06:16:22</td>\n",
       "      <td>True</td>\n",
       "      <td>iOS</td>\n",
       "      <td>664</td>\n",
       "      <td>66.0</td>\n",
       "      <td>India</td>\n",
       "      <td>Female</td>\n",
       "      <td>10.2</td>\n",
       "      <td>senior</td>\n",
       "      <td>2025</td>\n",
       "    </tr>\n",
       "    <tr>\n",
       "      <th>4</th>\n",
       "      <td>5</td>\n",
       "      <td>7190293</td>\n",
       "      <td>Google Drive</td>\n",
       "      <td>Education</td>\n",
       "      <td>Perfect for daily use, highly recommend to eve...</td>\n",
       "      <td>Tagalog</td>\n",
       "      <td>3.2</td>\n",
       "      <td>2024-04-21 03:48:27</td>\n",
       "      <td>True</td>\n",
       "      <td>iPad</td>\n",
       "      <td>1197</td>\n",
       "      <td>40.0</td>\n",
       "      <td>South Korea</td>\n",
       "      <td>Prefer not to say</td>\n",
       "      <td>4.7</td>\n",
       "      <td>adult</td>\n",
       "      <td>2024</td>\n",
       "    </tr>\n",
       "  </tbody>\n",
       "</table>\n",
       "</div>"
      ],
      "text/plain": [
       "   review_id  user_id      app_name    app_category  \\\n",
       "0          1  1967825     MX Player  Travel & Local   \n",
       "1          2  9242600        Tinder      Navigation   \n",
       "2          3  7636477       Netflix          Dating   \n",
       "3          4   209031         Venmo    Productivity   \n",
       "4          5  7190293  Google Drive       Education   \n",
       "\n",
       "                                         review_text review_language  rating  \\\n",
       "0  Qui doloribus consequuntur. Perspiciatis tempo...       Norwegian     1.3   \n",
       "1  Great app but too many ads, consider premium v...         Russian     1.6   \n",
       "2  The interface could be better but overall good...         Spanish     3.6   \n",
       "3  Latest update broke some features, please fix ...      Vietnamese     3.8   \n",
       "4  Perfect for daily use, highly recommend to eve...         Tagalog     3.2   \n",
       "\n",
       "          review_date  verified_purchase     device_type  num_helpful_votes  \\\n",
       "0 2024-10-09 19:26:40               True  Android Tablet                 65   \n",
       "1 2024-06-21 17:29:40               True            iPad                209   \n",
       "2 2024-10-31 13:47:12               True            iPad                163   \n",
       "3 2025-03-12 06:16:22               True             iOS                664   \n",
       "4 2024-04-21 03:48:27               True            iPad               1197   \n",
       "\n",
       "   user_age user_country        user_gender  app_version age Category  year  \n",
       "0      14.0        China             Female          1.4         teen  2024  \n",
       "1      18.0      Germany               Male          8.9         teen  2024  \n",
       "2      67.0      Nigeria               Male  2.8.37.5926       senior  2024  \n",
       "3      66.0        India             Female         10.2       senior  2025  \n",
       "4      40.0  South Korea  Prefer not to say          4.7        adult  2024  "
      ]
     },
     "execution_count": 142,
     "metadata": {},
     "output_type": "execute_result"
    }
   ],
   "source": [
    "df.head()"
   ]
  },
  {
   "cell_type": "markdown",
   "id": "830bbc26",
   "metadata": {},
   "source": [
    "## Data Analysis"
   ]
  },
  {
   "cell_type": "markdown",
   "id": "6ef24967",
   "metadata": {},
   "source": [
    "### 1. Which factors do you think most strongly influence the rating of an app? Why?"
   ]
  },
  {
   "cell_type": "code",
   "execution_count": 143,
   "id": "d7d7249a",
   "metadata": {},
   "outputs": [],
   "source": [
    "numeric_corr = df.corr(numeric_only=True)"
   ]
  },
  {
   "cell_type": "code",
   "execution_count": 144,
   "id": "f792b5d1",
   "metadata": {},
   "outputs": [
    {
     "data": {
      "text/html": [
       "<div>\n",
       "<style scoped>\n",
       "    .dataframe tbody tr th:only-of-type {\n",
       "        vertical-align: middle;\n",
       "    }\n",
       "\n",
       "    .dataframe tbody tr th {\n",
       "        vertical-align: top;\n",
       "    }\n",
       "\n",
       "    .dataframe thead th {\n",
       "        text-align: right;\n",
       "    }\n",
       "</style>\n",
       "<table border=\"1\" class=\"dataframe\">\n",
       "  <thead>\n",
       "    <tr style=\"text-align: right;\">\n",
       "      <th></th>\n",
       "      <th>review_id</th>\n",
       "      <th>user_id</th>\n",
       "      <th>rating</th>\n",
       "      <th>verified_purchase</th>\n",
       "      <th>num_helpful_votes</th>\n",
       "      <th>user_age</th>\n",
       "      <th>year</th>\n",
       "    </tr>\n",
       "  </thead>\n",
       "  <tbody>\n",
       "    <tr>\n",
       "      <th>review_id</th>\n",
       "      <td>1.000000</td>\n",
       "      <td>-0.012680</td>\n",
       "      <td>0.013093</td>\n",
       "      <td>0.019444</td>\n",
       "      <td>0.024894</td>\n",
       "      <td>-0.000152</td>\n",
       "      <td>0.001063</td>\n",
       "    </tr>\n",
       "    <tr>\n",
       "      <th>user_id</th>\n",
       "      <td>-0.012680</td>\n",
       "      <td>1.000000</td>\n",
       "      <td>-0.004015</td>\n",
       "      <td>-0.004832</td>\n",
       "      <td>-0.025679</td>\n",
       "      <td>-0.008081</td>\n",
       "      <td>-0.039731</td>\n",
       "    </tr>\n",
       "    <tr>\n",
       "      <th>rating</th>\n",
       "      <td>0.013093</td>\n",
       "      <td>-0.004015</td>\n",
       "      <td>1.000000</td>\n",
       "      <td>0.017150</td>\n",
       "      <td>0.011949</td>\n",
       "      <td>0.020748</td>\n",
       "      <td>-0.017307</td>\n",
       "    </tr>\n",
       "    <tr>\n",
       "      <th>verified_purchase</th>\n",
       "      <td>0.019444</td>\n",
       "      <td>-0.004832</td>\n",
       "      <td>0.017150</td>\n",
       "      <td>1.000000</td>\n",
       "      <td>0.014905</td>\n",
       "      <td>-0.002648</td>\n",
       "      <td>-0.041724</td>\n",
       "    </tr>\n",
       "    <tr>\n",
       "      <th>num_helpful_votes</th>\n",
       "      <td>0.024894</td>\n",
       "      <td>-0.025679</td>\n",
       "      <td>0.011949</td>\n",
       "      <td>0.014905</td>\n",
       "      <td>1.000000</td>\n",
       "      <td>-0.011508</td>\n",
       "      <td>0.004482</td>\n",
       "    </tr>\n",
       "    <tr>\n",
       "      <th>user_age</th>\n",
       "      <td>-0.000152</td>\n",
       "      <td>-0.008081</td>\n",
       "      <td>0.020748</td>\n",
       "      <td>-0.002648</td>\n",
       "      <td>-0.011508</td>\n",
       "      <td>1.000000</td>\n",
       "      <td>0.002656</td>\n",
       "    </tr>\n",
       "    <tr>\n",
       "      <th>year</th>\n",
       "      <td>0.001063</td>\n",
       "      <td>-0.039731</td>\n",
       "      <td>-0.017307</td>\n",
       "      <td>-0.041724</td>\n",
       "      <td>0.004482</td>\n",
       "      <td>0.002656</td>\n",
       "      <td>1.000000</td>\n",
       "    </tr>\n",
       "  </tbody>\n",
       "</table>\n",
       "</div>"
      ],
      "text/plain": [
       "                   review_id   user_id    rating  verified_purchase  \\\n",
       "review_id           1.000000 -0.012680  0.013093           0.019444   \n",
       "user_id            -0.012680  1.000000 -0.004015          -0.004832   \n",
       "rating              0.013093 -0.004015  1.000000           0.017150   \n",
       "verified_purchase   0.019444 -0.004832  0.017150           1.000000   \n",
       "num_helpful_votes   0.024894 -0.025679  0.011949           0.014905   \n",
       "user_age           -0.000152 -0.008081  0.020748          -0.002648   \n",
       "year                0.001063 -0.039731 -0.017307          -0.041724   \n",
       "\n",
       "                   num_helpful_votes  user_age      year  \n",
       "review_id                   0.024894 -0.000152  0.001063  \n",
       "user_id                    -0.025679 -0.008081 -0.039731  \n",
       "rating                      0.011949  0.020748 -0.017307  \n",
       "verified_purchase           0.014905 -0.002648 -0.041724  \n",
       "num_helpful_votes           1.000000 -0.011508  0.004482  \n",
       "user_age                   -0.011508  1.000000  0.002656  \n",
       "year                        0.004482  0.002656  1.000000  "
      ]
     },
     "execution_count": 144,
     "metadata": {},
     "output_type": "execute_result"
    }
   ],
   "source": [
    "numeric_corr"
   ]
  },
  {
   "cell_type": "code",
   "execution_count": 145,
   "id": "53f577ba",
   "metadata": {},
   "outputs": [
    {
     "data": {
      "image/png": "[encoded data removed]",
      "text/plain": [
       "<Figure size 600x400 with 2 Axes>"
      ]
     },
     "metadata": {},
     "output_type": "display_data"
    }
   ],
   "source": [
    "plt.figure(figsize=(6,4))\n",
    "sns.heatmap(numeric_corr, annot=True, cmap=\"coolwarm\", fmt=\".2f\")\n",
    "plt.title(\"Correlation Heatmap (Numeric Features)\")\n",
    "plt.show()"
   ]
  },
  {
   "cell_type": "markdown",
   "id": "856f2446",
   "metadata": {},
   "source": [
    "**There is no strong correlation between rating, user_age, and num_helpful_votes**\n",
    "\n",
    "**other factors (like app version, device type, or language) likely matter more.**"
   ]
  },
  {
   "cell_type": "code",
   "execution_count": 146,
   "id": "ee393b79",
   "metadata": {},
   "outputs": [
    {
     "data": {
      "text/plain": [
       "app_name   rating\n",
       "Pinterest  2.0       7\n",
       "Telegram   1.1       6\n",
       "VLC        4.4       6\n",
       "Dropbox    3.3       6\n",
       "Udemy      2.8       6\n",
       "YouTube    3.6       6\n",
       "Netflix    3.6       6\n",
       "Grammarly  2.4       5\n",
       "Instagram  3.2       5\n",
       "Tinder     1.1       5\n",
       "Name: count, dtype: int64"
      ]
     },
     "execution_count": 146,
     "metadata": {},
     "output_type": "execute_result"
    }
   ],
   "source": [
    "df[['app_name','rating']].value_counts().sort_values(ascending=False).head(10)"
   ]
  },
  {
   "cell_type": "code",
   "execution_count": 147,
   "id": "828b8780",
   "metadata": {},
   "outputs": [
    {
     "data": {
      "image/png": "[encoded data removed]",
      "text/plain": [
       "<Figure size 800x600 with 1 Axes>"
      ]
     },
     "metadata": {},
     "output_type": "display_data"
    }
   ],
   "source": [
    "plt.figure(figsize=(8,6))\n",
    "sns.boxplot(x='verified_purchase', y='rating', data=df)\n",
    "plt.show()"
   ]
  },
  {
   "cell_type": "markdown",
   "id": "61149194",
   "metadata": {},
   "source": [
    "**Both verified and non-verified users show a similar rating distribution**"
   ]
  },
  {
   "cell_type": "code",
   "execution_count": 148,
   "id": "4958e860",
   "metadata": {},
   "outputs": [
    {
     "data": {
      "image/png": "[encoded data removed]",
      "text/plain": [
       "<Figure size 1200x600 with 1 Axes>"
      ]
     },
     "metadata": {},
     "output_type": "display_data"
    }
   ],
   "source": [
    "plt.figure(figsize=(12,6))\n",
    "sns.barplot(x='app_category', y='rating', data=df)\n",
    "plt.xticks(rotation=45)\n",
    "plt.title(\"Impact of App Category on Ratings\")\n",
    "plt.show()"
   ]
  },
  {
   "cell_type": "markdown",
   "id": "42659cf9",
   "metadata": {},
   "source": [
    "**Categories like Games, Communication, and Social Networking show more rating**"
   ]
  },
  {
   "cell_type": "markdown",
   "id": "0f0199fd",
   "metadata": {},
   "source": [
    "### 2. How might review_language affect the interpretation of user satisfaction?"
   ]
  },
  {
   "cell_type": "code",
   "execution_count": 149,
   "id": "a2c15a3d",
   "metadata": {},
   "outputs": [],
   "source": [
    "top10=df.groupby('review_language')['rating'].mean().sort_values(ascending=False).head(10)"
   ]
  },
  {
   "cell_type": "code",
   "execution_count": 150,
   "id": "60b288e0",
   "metadata": {},
   "outputs": [
    {
     "data": {
      "image/png": "[encoded data removed]",
      "text/plain": [
       "<Figure size 1000x600 with 1 Axes>"
      ]
     },
     "metadata": {},
     "output_type": "display_data"
    }
   ],
   "source": [
    "plt.figure(figsize=(10,6))\n",
    "plt.bar(top10.index, top10.values, color='red')\n",
    "plt.show()"
   ]
  },
  {
   "cell_type": "markdown",
   "id": "575b31ed",
   "metadata": {},
   "source": [
    "**all these review language's average rating are all close to each other**"
   ]
  },
  {
   "cell_type": "markdown",
   "id": "5e06bce9",
   "metadata": {},
   "source": [
    "### 3. Explain how app_version and review_date together can show app improvement or decline."
   ]
  },
  {
   "cell_type": "code",
   "execution_count": 151,
   "id": "a56c0ba2",
   "metadata": {},
   "outputs": [
    {
     "data": {
      "text/plain": [
       "app_version  year\n",
       "3.7.88       2025    5.0\n",
       "1.2.92.3702  2025    5.0\n",
       "3.8.59       2024    5.0\n",
       "12.4.35.938  2025    5.0\n",
       "1.2.30       2025    5.0\n",
       "                    ... \n",
       "v12.7.84     2024    1.0\n",
       "2.1.14       2024    1.0\n",
       "v14.7.20     2024    1.0\n",
       "4.2          2023    1.0\n",
       "v11.2.23     2024    1.0\n",
       "Name: rating, Length: 2245, dtype: float64"
      ]
     },
     "execution_count": 151,
     "metadata": {},
     "output_type": "execute_result"
    }
   ],
   "source": [
    "df.groupby(['app_version','year'])['rating'].mean().sort_values(ascending=False)"
   ]
  },
  {
   "cell_type": "markdown",
   "id": "8a28599d",
   "metadata": {},
   "source": [
    "**app versions along with review dates, If newer versions get better ratings, the app is improving. if ratings drop, it shows decline.**"
   ]
  },
  {
   "cell_type": "markdown",
   "id": "8237ea45",
   "metadata": {},
   "source": [
    "### 4. Do you think verified_purchase makes reviews more trustworthy?"
   ]
  },
  {
   "cell_type": "code",
   "execution_count": 152,
   "id": "5e04fd2c",
   "metadata": {},
   "outputs": [
    {
     "data": {
      "image/png": "[encoded data removed]",
      "text/plain": [
       "<Figure size 800x500 with 1 Axes>"
      ]
     },
     "metadata": {},
     "output_type": "display_data"
    }
   ],
   "source": [
    "plt.figure(figsize=(8,5))\n",
    "sns.barplot(df,x='verified_purchase', y='rating',color='green')\n",
    "plt.title(\"Verified vs Unverified Ratings\")\n",
    "plt.show()"
   ]
  },
  {
   "cell_type": "markdown",
   "id": "d33329a5",
   "metadata": {},
   "source": [
    "**Verified purchases showing slightly higher average ratings compared to unverified**\n",
    "\n",
    "**So, verified reviews are more trustworthy**"
   ]
  },
  {
   "cell_type": "markdown",
   "id": "6493afbc",
   "metadata": {},
   "source": [
    "### 5. How would you test whether device_type has an impact on app ratings?"
   ]
  },
  {
   "cell_type": "code",
   "execution_count": 153,
   "id": "694faf35",
   "metadata": {},
   "outputs": [
    {
     "data": {
      "image/png": "[encoded data removed]",
      "text/plain": [
       "<Figure size 800x600 with 1 Axes>"
      ]
     },
     "metadata": {},
     "output_type": "display_data"
    }
   ],
   "source": [
    "plt.figure(figsize=(8,6))\n",
    "sns.barplot(df,x='device_type',y='rating',color='red')\n",
    "plt.title(\"Device Type vs Ratings\")\n",
    "plt.show()"
   ]
  },
  {
   "cell_type": "markdown",
   "id": "11e86147",
   "metadata": {},
   "source": [
    "**Ratings look almost the same for all device types**\n",
    "\n",
    "**These device doesn’t really change app ratings much**"
   ]
  },
  {
   "cell_type": "markdown",
   "id": "c7d7ccaf",
   "metadata": {},
   "source": [
    "### 6. If you had to find which age group is most satisfied, what steps would you follow?"
   ]
  },
  {
   "cell_type": "code",
   "execution_count": 154,
   "id": "0b914e6f",
   "metadata": {},
   "outputs": [
    {
     "data": {
      "image/png": "[encoded data removed]",
      "text/plain": [
       "<Figure size 800x600 with 1 Axes>"
      ]
     },
     "metadata": {},
     "output_type": "display_data"
    }
   ],
   "source": [
    "plt.figure(figsize=(8,6))\n",
    "sns.barplot(df,x='age Category',y='rating',color='red')\n",
    "plt.title(\"Age Category vs Ratings\")\n",
    "plt.show()"
   ]
  },
  {
   "cell_type": "markdown",
   "id": "b9fc2cc1",
   "metadata": {},
   "source": [
    "**The average ratings are very close to all age groups, but seniors show slightly higher satisfaction compared to teens and adults**"
   ]
  },
  {
   "cell_type": "code",
   "execution_count": null,
   "id": "4bc06191",
   "metadata": {},
   "outputs": [],
   "source": []
  },
  {
   "cell_type": "markdown",
   "id": "bdec63f8",
   "metadata": {},
   "source": [
    "1. Suppose you are an app developer: what insights from this dataset would help you improve\n",
    "your app?"
   ]
  },
  {
   "cell_type": "markdown",
   "id": "4e5d5be3",
   "metadata": {},
   "source": [
    "As a developer, I would look at which app versions, devices, and age groups give higher or lower ratings to improve overall satisfaction"
   ]
  },
  {
   "cell_type": "markdown",
   "id": "f3fb38b9",
   "metadata": {},
   "source": []
  }
 ],
 "metadata": {
  "kernelspec": {
   "display_name": "base",
   "language": "python",
   "name": "python3"
  },
  "language_info": {
   "codemirror_mode": {
    "name": "ipython",
    "version": 3
   },
   "file_extension": ".py",
   "mimetype": "text/x-python",
   "name": "python",
   "nbconvert_exporter": "python",
   "pygments_lexer": "ipython3",
   "version": "3.12.7"
  }
 },
 "nbformat": 4,
 "nbformat_minor": 5
}
